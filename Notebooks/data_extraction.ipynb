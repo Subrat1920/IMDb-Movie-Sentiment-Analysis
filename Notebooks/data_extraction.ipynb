{
 "cells": [
  {
   "cell_type": "code",
   "execution_count": 1,
   "id": "e9b3c59b-4af9-40c1-b7bc-72cca992d6d3",
   "metadata": {},
   "outputs": [],
   "source": [
    "import numpy as np\n",
    "import pandas as pd\n",
    "import matplotlib.pyplot as plt\n",
    "import seaborn as sns\n",
    "import tensorflow as tf\n",
    "from tensorflow.keras.datasets import imdb\n",
    "from tensorflow.keras.preprocessing import sequence\n",
    "from tensorflow.keras.models import Sequential\n",
    "from tensorflow.keras.layers import Dense, Embedding, SimpleRNN\n",
    "import warnings\n",
    "warnings.filterwarnings('ignore')"
   ]
  },
  {
   "cell_type": "code",
   "execution_count": 18,
   "id": "cad8129d-aaad-440c-862b-da8409877821",
   "metadata": {},
   "outputs": [
    {
     "data": {
      "text/plain": [
       "((25000,), (25000,), (25000,), (25000,))"
      ]
     },
     "execution_count": 18,
     "metadata": {},
     "output_type": "execute_result"
    }
   ],
   "source": [
    "## load the imdb dataset\n",
    "max_features = 10000 ## vocabulary size\n",
    "(x_train,y_train),(x_test,y_test)=imdb.load_data(num_words=max_features)\n",
    "x_train.shape, y_train.shape, x_test.shape, y_test.shape"
   ]
  },
  {
   "cell_type": "code",
   "execution_count": 19,
   "id": "46a4a6bb-ab22-4653-8166-dc1926d3025d",
   "metadata": {},
   "outputs": [
    {
     "name": "stdout",
     "output_type": "stream",
     "text": [
      "--------------------------------------------------\n",
      "Sample Review ===> [1, 14, 22, 16, 43, 530, 973, 1622, 1385, 65, 458, 4468, 66, 3941, 4, 173, 36, 256, 5, 25, 100, 43, 838, 112, 50, 670, 2, 9, 35, 480, 284, 5, 150, 4, 172, 112, 167, 2, 336, 385, 39, 4, 172, 4536, 1111, 17, 546, 38, 13, 447, 4, 192, 50, 16, 6, 147, 2025, 19, 14, 22, 4, 1920, 4613, 469, 4, 22, 71, 87, 12, 16, 43, 530, 38, 76, 15, 13, 1247, 4, 22, 17, 515, 17, 12, 16, 626, 18, 2, 5, 62, 386, 12, 8, 316, 8, 106, 5, 4, 2223, 5244, 16, 480, 66, 3785, 33, 4, 130, 12, 16, 38, 619, 5, 25, 124, 51, 36, 135, 48, 25, 1415, 33, 6, 22, 12, 215, 28, 77, 52, 5, 14, 407, 16, 82, 2, 8, 4, 107, 117, 5952, 15, 256, 4, 2, 7, 3766, 5, 723, 36, 71, 43, 530, 476, 26, 400, 317, 46, 7, 4, 2, 1029, 13, 104, 88, 4, 381, 15, 297, 98, 32, 2071, 56, 26, 141, 6, 194, 7486, 18, 4, 226, 22, 21, 134, 476, 26, 480, 5, 144, 30, 5535, 18, 51, 36, 28, 224, 92, 25, 104, 4, 226, 65, 16, 38, 1334, 88, 12, 16, 283, 5, 16, 4472, 113, 103, 32, 15, 16, 5345, 19, 178, 32]\n",
      "--------------------------------------------------\n",
      "Length of the Sample Review ===> 218\n",
      "--------------------------------------------------\n",
      "Sentiment ===> 1\n",
      "--------------------------------------------------\n"
     ]
    }
   ],
   "source": [
    "## inspect sample review\n",
    "sample_review = x_train[0]      ## embedding layers (one hot representation)\n",
    "sample_label = y_train[0]       ## sentiment for the sample review\n",
    "print('-'*50)\n",
    "print(f'Sample Review ===> {sample_review}')\n",
    "print('-'*50)\n",
    "print(f'Length of the Sample Review ===> {len(sample_review)}')\n",
    "print('-'*50)\n",
    "print(f'Sentiment ===> {sample_label}')\n",
    "print('-'*50)"
   ]
  },
  {
   "cell_type": "code",
   "execution_count": 42,
   "id": "89a2934d-6986-46da-837f-bd4b031857b3",
   "metadata": {},
   "outputs": [
    {
     "data": {
      "text/plain": [
       "(25000, 25000, 50000)"
      ]
     },
     "execution_count": 42,
     "metadata": {},
     "output_type": "execute_result"
    }
   ],
   "source": [
    "len(x_train), len(x_test), len(x_train) + len(x_test)"
   ]
  },
  {
   "cell_type": "code",
   "execution_count": 47,
   "id": "724cb24b-c70a-493c-970b-625a4da303b5",
   "metadata": {},
   "outputs": [],
   "source": [
    "x = np.concatenate((x_train, x_test), axis=0)\n",
    "y = np.concatenate((y_train, y_test), axis=0)"
   ]
  },
  {
   "cell_type": "code",
   "execution_count": 49,
   "id": "e2412d00-9947-4aba-991f-ef34081b8c18",
   "metadata": {},
   "outputs": [
    {
     "data": {
      "text/plain": [
       "(50000, 50000)"
      ]
     },
     "execution_count": 49,
     "metadata": {},
     "output_type": "execute_result"
    }
   ],
   "source": [
    "len(x), len(y)"
   ]
  },
  {
   "cell_type": "code",
   "execution_count": 51,
   "id": "d795abfb-b29a-4bbc-99cc-46f2f5826b21",
   "metadata": {},
   "outputs": [],
   "source": [
    "word_index = imdb.get_word_index()\n",
    "reverse_word_index = {value : key for key, value in word_index.items()}"
   ]
  },
  {
   "cell_type": "code",
   "execution_count": 53,
   "id": "a958678c-0ac7-4529-b1cd-4e765a3837c0",
   "metadata": {},
   "outputs": [
    {
     "data": {
      "text/plain": [
       "88584"
      ]
     },
     "execution_count": 53,
     "metadata": {},
     "output_type": "execute_result"
    }
   ],
   "source": [
    "len(reverse_word_index)"
   ]
  },
  {
   "cell_type": "code",
   "execution_count": 60,
   "id": "a5de3ada-c739-4735-8f31-770436a3342e",
   "metadata": {},
   "outputs": [],
   "source": [
    "decoded_reviews = []\n",
    "for rev in x:\n",
    "    decode_review = ' '.join([reverse_word_index.get(i-3, '?') for i in rev])\n",
    "    decoded_reviews.append(decode_review)"
   ]
  },
  {
   "cell_type": "code",
   "execution_count": 65,
   "id": "8891f806-a372-4831-90e8-6ff72d83a26e",
   "metadata": {},
   "outputs": [],
   "source": [
    "df = {\n",
    "    \"Reviews\" : decoded_reviews,\n",
    "    \"Sentiments\" : y\n",
    "}"
   ]
  },
  {
   "cell_type": "code",
   "execution_count": 66,
   "id": "85fec7ae-beae-417a-b691-25c2be5f44cb",
   "metadata": {},
   "outputs": [],
   "source": [
    "data = pd.DataFrame(df)"
   ]
  },
  {
   "cell_type": "code",
   "execution_count": 68,
   "id": "cf6c4db1-56d0-4b7a-9027-8b692d7c7407",
   "metadata": {},
   "outputs": [
    {
     "data": {
      "text/html": [
       "<div>\n",
       "<style scoped>\n",
       "    .dataframe tbody tr th:only-of-type {\n",
       "        vertical-align: middle;\n",
       "    }\n",
       "\n",
       "    .dataframe tbody tr th {\n",
       "        vertical-align: top;\n",
       "    }\n",
       "\n",
       "    .dataframe thead th {\n",
       "        text-align: right;\n",
       "    }\n",
       "</style>\n",
       "<table border=\"1\" class=\"dataframe\">\n",
       "  <thead>\n",
       "    <tr style=\"text-align: right;\">\n",
       "      <th></th>\n",
       "      <th>Reviews</th>\n",
       "      <th>Sentiments</th>\n",
       "    </tr>\n",
       "  </thead>\n",
       "  <tbody>\n",
       "    <tr>\n",
       "      <th>0</th>\n",
       "      <td>? this film was just brilliant casting locatio...</td>\n",
       "      <td>1</td>\n",
       "    </tr>\n",
       "    <tr>\n",
       "      <th>1</th>\n",
       "      <td>? big hair big boobs bad music and a giant saf...</td>\n",
       "      <td>0</td>\n",
       "    </tr>\n",
       "    <tr>\n",
       "      <th>2</th>\n",
       "      <td>? this has to be one of the worst films of the...</td>\n",
       "      <td>0</td>\n",
       "    </tr>\n",
       "    <tr>\n",
       "      <th>3</th>\n",
       "      <td>? the ? ? at storytelling the traditional sort...</td>\n",
       "      <td>1</td>\n",
       "    </tr>\n",
       "    <tr>\n",
       "      <th>4</th>\n",
       "      <td>? worst mistake of my life br br i picked this...</td>\n",
       "      <td>0</td>\n",
       "    </tr>\n",
       "  </tbody>\n",
       "</table>\n",
       "</div>"
      ],
      "text/plain": [
       "                                             Reviews  Sentiments\n",
       "0  ? this film was just brilliant casting locatio...           1\n",
       "1  ? big hair big boobs bad music and a giant saf...           0\n",
       "2  ? this has to be one of the worst films of the...           0\n",
       "3  ? the ? ? at storytelling the traditional sort...           1\n",
       "4  ? worst mistake of my life br br i picked this...           0"
      ]
     },
     "execution_count": 68,
     "metadata": {},
     "output_type": "execute_result"
    }
   ],
   "source": [
    "data.head()"
   ]
  },
  {
   "cell_type": "code",
   "execution_count": 69,
   "id": "5be1c48d-b290-418a-9638-2acedeedab55",
   "metadata": {},
   "outputs": [
    {
     "name": "stdout",
     "output_type": "stream",
     "text": [
      "<class 'pandas.core.frame.DataFrame'>\n",
      "RangeIndex: 50000 entries, 0 to 49999\n",
      "Data columns (total 2 columns):\n",
      " #   Column      Non-Null Count  Dtype \n",
      "---  ------      --------------  ----- \n",
      " 0   Reviews     50000 non-null  object\n",
      " 1   Sentiments  50000 non-null  int64 \n",
      "dtypes: int64(1), object(1)\n",
      "memory usage: 781.4+ KB\n"
     ]
    }
   ],
   "source": [
    "data.info()"
   ]
  },
  {
   "cell_type": "code",
   "execution_count": 70,
   "id": "5f1241f6-cb9a-4246-9383-09023cde25a1",
   "metadata": {},
   "outputs": [],
   "source": [
    "data.to_csv(\"imbd_sentiments.csv\")"
   ]
  },
  {
   "cell_type": "code",
   "execution_count": null,
   "id": "248d1489-fb25-420b-8c64-393e3c75a827",
   "metadata": {},
   "outputs": [],
   "source": []
  }
 ],
 "metadata": {
  "kernelspec": {
   "display_name": "Python 3 (ipykernel)",
   "language": "python",
   "name": "python3"
  },
  "language_info": {
   "codemirror_mode": {
    "name": "ipython",
    "version": 3
   },
   "file_extension": ".py",
   "mimetype": "text/x-python",
   "name": "python",
   "nbconvert_exporter": "python",
   "pygments_lexer": "ipython3",
   "version": "3.11.5"
  }
 },
 "nbformat": 4,
 "nbformat_minor": 5
}
