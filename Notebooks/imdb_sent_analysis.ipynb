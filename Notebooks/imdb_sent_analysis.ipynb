{
 "cells": [
  {
   "cell_type": "code",
   "execution_count": 1,
   "metadata": {
    "colab": {
     "base_uri": "https://localhost:8080/"
    },
    "id": "MvZ0fifYsYBj",
    "outputId": "4891ef5d-0b59-42c6-85a5-c426eb17eb14"
   },
   "outputs": [
    {
     "name": "stdout",
     "output_type": "stream",
     "text": [
      "Fri Mar 21 14:05:31 2025       \n",
      "+-----------------------------------------------------------------------------------------+\n",
      "| NVIDIA-SMI 550.54.15              Driver Version: 550.54.15      CUDA Version: 12.4     |\n",
      "|-----------------------------------------+------------------------+----------------------+\n",
      "| GPU  Name                 Persistence-M | Bus-Id          Disp.A | Volatile Uncorr. ECC |\n",
      "| Fan  Temp   Perf          Pwr:Usage/Cap |           Memory-Usage | GPU-Util  Compute M. |\n",
      "|                                         |                        |               MIG M. |\n",
      "|=========================================+========================+======================|\n",
      "|   0  Tesla T4                       Off |   00000000:00:04.0 Off |                    0 |\n",
      "| N/A   70C    P8             11W /   70W |       0MiB /  15360MiB |      0%      Default |\n",
      "|                                         |                        |                  N/A |\n",
      "+-----------------------------------------+------------------------+----------------------+\n",
      "                                                                                         \n",
      "+-----------------------------------------------------------------------------------------+\n",
      "| Processes:                                                                              |\n",
      "|  GPU   GI   CI        PID   Type   Process name                              GPU Memory |\n",
      "|        ID   ID                                                               Usage      |\n",
      "|=========================================================================================|\n",
      "|  No running processes found                                                             |\n",
      "+-----------------------------------------------------------------------------------------+\n"
     ]
    }
   ],
   "source": [
    "!nvidia-smi"
   ]
  },
  {
   "cell_type": "code",
   "execution_count": 2,
   "metadata": {
    "colab": {
     "base_uri": "https://localhost:8080/",
     "height": 36
    },
    "id": "_SHOT42tsfis",
    "outputId": "678af397-8e0b-4ff1-d207-593eccb7055c"
   },
   "outputs": [
    {
     "data": {
      "application/vnd.google.colaboratory.intrinsic+json": {
       "type": "string"
      },
      "text/plain": [
       "'cuda'"
      ]
     },
     "execution_count": 2,
     "metadata": {},
     "output_type": "execute_result"
    }
   ],
   "source": [
    "import torch\n",
    "device = \"cuda\" if torch.cuda.is_available() else \"cpu\"\n",
    "device"
   ]
  },
  {
   "cell_type": "code",
   "execution_count": 3,
   "metadata": {
    "colab": {
     "base_uri": "https://localhost:8080/"
    },
    "id": "jxHpP4gkshZi",
    "outputId": "3e9af504-a8d8-47bd-911f-cab2af8ad251"
   },
   "outputs": [
    {
     "name": "stdout",
     "output_type": "stream",
     "text": [
      "--2025-03-21 14:05:35--  https://raw.githubusercontent.com/Subrat1920/IMDb-Movie-Sentiment-Analysis/refs/heads/main/Notebooks/Datasets/cleaned_sentiment_data.csv\n",
      "Resolving raw.githubusercontent.com (raw.githubusercontent.com)... 185.199.108.133, 185.199.109.133, 185.199.110.133, ...\n",
      "Connecting to raw.githubusercontent.com (raw.githubusercontent.com)|185.199.108.133|:443... connected.\n",
      "HTTP request sent, awaiting response... 200 OK\n",
      "Length: 57950796 (55M) [text/plain]\n",
      "Saving to: ‘dataset.csv’\n",
      "\n",
      "dataset.csv         100%[===================>]  55.27M  --.-KB/s    in 0.1s    \n",
      "\n",
      "2025-03-21 14:05:36 (404 MB/s) - ‘dataset.csv’ saved [57950796/57950796]\n",
      "\n"
     ]
    }
   ],
   "source": [
    "!wget -O dataset.csv \"https://raw.githubusercontent.com/Subrat1920/IMDb-Movie-Sentiment-Analysis/refs/heads/main/Notebooks/Datasets/cleaned_sentiment_data.csv\""
   ]
  },
  {
   "cell_type": "code",
   "execution_count": 4,
   "metadata": {
    "id": "nhvfsc3DsrRh"
   },
   "outputs": [],
   "source": [
    "import pandas as pd\n",
    "import numpy as np"
   ]
  },
  {
   "cell_type": "code",
   "execution_count": 5,
   "metadata": {
    "colab": {
     "base_uri": "https://localhost:8080/"
    },
    "id": "Q2AYwFTGstGJ",
    "outputId": "62d6dedc-7e9f-437a-f2a5-01b064988e89"
   },
   "outputs": [
    {
     "data": {
      "text/plain": [
       "(20000, 2)"
      ]
     },
     "execution_count": 5,
     "metadata": {},
     "output_type": "execute_result"
    }
   ],
   "source": [
    "df = pd.read_csv(\"dataset.csv\")\n",
    "df.drop(columns=\"Unnamed: 0\", inplace=True)\n",
    "df = df.head(20000)\n",
    "df.shape"
   ]
  },
  {
   "cell_type": "code",
   "execution_count": 6,
   "metadata": {
    "id": "hWOBEWkjsuah"
   },
   "outputs": [],
   "source": [
    "import re\n",
    "import nltk\n",
    "import string\n",
    "from nltk.corpus import stopwords\n",
    "from nltk.tokenize import word_tokenize\n",
    "from nltk.stem import WordNetLemmatizer"
   ]
  },
  {
   "cell_type": "code",
   "execution_count": 7,
   "metadata": {
    "colab": {
     "base_uri": "https://localhost:8080/"
    },
    "id": "mZV8izL6swEZ",
    "outputId": "b7c30553-9a60-4e06-a0a4-ba0efcf2e68b"
   },
   "outputs": [
    {
     "name": "stderr",
     "output_type": "stream",
     "text": [
      "[nltk_data] Downloading package stopwords to /root/nltk_data...\n",
      "[nltk_data]   Package stopwords is already up-to-date!\n",
      "[nltk_data] Downloading package punkt to /root/nltk_data...\n",
      "[nltk_data]   Package punkt is already up-to-date!\n",
      "[nltk_data] Downloading package wordnet to /root/nltk_data...\n",
      "[nltk_data]   Package wordnet is already up-to-date!\n"
     ]
    },
    {
     "data": {
      "text/plain": [
       "True"
      ]
     },
     "execution_count": 7,
     "metadata": {},
     "output_type": "execute_result"
    }
   ],
   "source": [
    "nltk.download(\"stopwords\")\n",
    "nltk.download(\"punkt\")\n",
    "nltk.download(\"wordnet\")"
   ]
  },
  {
   "cell_type": "code",
   "execution_count": 8,
   "metadata": {
    "id": "55yZqpdhsxuC"
   },
   "outputs": [],
   "source": [
    "stop_words = set(stopwords.words('english'))"
   ]
  },
  {
   "cell_type": "code",
   "execution_count": 9,
   "metadata": {
    "id": "yeoV9bDiszKJ"
   },
   "outputs": [],
   "source": [
    "## Preprocessing the text\n",
    "def clean_text(text):\n",
    "  text = text.lower()\n",
    "  text = re.sub(f\"[{string.punctuation}]\", \"\", text)\n",
    "  text = re.sub(r'\\d+', '', text)\n",
    "  text = ' '.join([word for word in text.split() if word not in stop_words])\n",
    "  return text"
   ]
  },
  {
   "cell_type": "code",
   "execution_count": 10,
   "metadata": {
    "id": "brxN2WQjs0iB"
   },
   "outputs": [],
   "source": [
    "df['processed_revs'] = df[\"Reviews\"].apply(clean_text)"
   ]
  },
  {
   "cell_type": "code",
   "execution_count": 11,
   "metadata": {
    "colab": {
     "base_uri": "https://localhost:8080/",
     "height": 293
    },
    "id": "nYRA-z3Ys1vJ",
    "outputId": "62676cd4-7a14-4635-adba-9a0bc7a651fe"
   },
   "outputs": [
    {
     "data": {
      "application/vnd.google.colaboratory.intrinsic+json": {
       "summary": "{\n  \"name\": \"df\",\n  \"rows\": 20000,\n  \"fields\": [\n    {\n      \"column\": \"Reviews\",\n      \"properties\": {\n        \"dtype\": \"string\",\n        \"num_unique_values\": 19934,\n        \"samples\": [\n          \"how this movie got made with a supposedly 70 million budget and without being completely  is beyond me the storyline and dialogue are beyond amateurish characters say things no real person would ever say and almost never react to things that were said before no one seems to be grounded in the real world the acting of the leads is fine given that the writing is such a dud but several actors in supporting roles really drag the production down the heros hair probably shouldve gotten its own credit it was so oddly attention grabbing not to mention that it gave one of the better performances in the  finally for a movie about l a being  by giant  this film is shockingly boring what a shame if you do see this your mind will be constantly racing thinking up ways that you could have taken the  scenes and built a far better movie around them sadly it wouldnt have taken much\",\n          \"this film has the  of a really good story the work of the men and women of the coast guard especially in the north pacific is the stuff of heroes and legends this film  up a good story with three endings none satisfying a couple of  and pointless bar fights and two alleged romantic relationships that have as much spark as dead  the rescue scenes are great even if the computer generation is hokey and the scenarios are pretty unreal but the  is lame and disappointing  is good especially his hand acting watch for it   is flat but not terrible the main female characters are one dimensional the best female is one of the coast guard sailors in the rescue center and shes on camera for about two minutes in the whole film it could have been an excellent film and  needs one\",\n          \"i find it hard to believe that anyone would put this movie in the same context as the exorcist where the exorcist was subtle and creepy  was blunt clumsy and way too formulaic   this is one of the most visually beautiful films ive seen in a while but the imagery does not make up for the  spiral of  exposition that makes it unbearable   my interest in this movie was  when it was compared to the exorcist and my visit to the official web site  that interest the web site had many tales of actual  throughout history however scene by scene the movie is so obsessed by its quest for  that it becomes comical at first then outright hard to watch toward the end i began getting suspicious when the priest charged with investigating potential  walks into the beauty  where our would be heroine cuts hair and evidently  with priests   the plot a woman without faith in god begins receiving the wounds of christ the  and is  and upset about the ordeal a priest is sent straight from the  to investigate the case is frankie possessed by satan or a  for jesus christ   the only miracle in this film is that it finally ends\"\n        ],\n        \"semantic_type\": \"\",\n        \"description\": \"\"\n      }\n    },\n    {\n      \"column\": \"Sentiments\",\n      \"properties\": {\n        \"dtype\": \"number\",\n        \"std\": 0,\n        \"min\": 0,\n        \"max\": 1,\n        \"num_unique_values\": 2,\n        \"samples\": [\n          0,\n          1\n        ],\n        \"semantic_type\": \"\",\n        \"description\": \"\"\n      }\n    },\n    {\n      \"column\": \"processed_revs\",\n      \"properties\": {\n        \"dtype\": \"string\",\n        \"num_unique_values\": 19933,\n        \"samples\": [\n          \"movie got made supposedly million budget without completely beyond storyline dialogue beyond amateurish characters say things real person would ever say almost never react things said one seems grounded real world acting leads fine given writing dud several actors supporting roles really drag production heros hair probably shouldve gotten credit oddly attention grabbing mention gave one better performances finally movie l giant film shockingly boring shame see mind constantly racing thinking ways could taken scenes built far better movie around sadly wouldnt taken much\",\n          \"film really good story work men women coast guard especially north pacific stuff heroes legends film good story three endings none satisfying couple pointless bar fights two alleged romantic relationships much spark dead rescue scenes great even computer generation hokey scenarios pretty unreal lame disappointing good especially hand acting watch flat terrible main female characters one dimensional best female one coast guard sailors rescue center shes camera two minutes whole film could excellent film needs one\"\n        ],\n        \"semantic_type\": \"\",\n        \"description\": \"\"\n      }\n    }\n  ]\n}",
       "type": "dataframe",
       "variable_name": "df"
      },
      "text/html": [
       "\n",
       "  <div id=\"df-6ee0806b-1ea1-4763-9805-b0e6ade0ff8b\" class=\"colab-df-container\">\n",
       "    <div>\n",
       "<style scoped>\n",
       "    .dataframe tbody tr th:only-of-type {\n",
       "        vertical-align: middle;\n",
       "    }\n",
       "\n",
       "    .dataframe tbody tr th {\n",
       "        vertical-align: top;\n",
       "    }\n",
       "\n",
       "    .dataframe thead th {\n",
       "        text-align: right;\n",
       "    }\n",
       "</style>\n",
       "<table border=\"1\" class=\"dataframe\">\n",
       "  <thead>\n",
       "    <tr style=\"text-align: right;\">\n",
       "      <th></th>\n",
       "      <th>Reviews</th>\n",
       "      <th>Sentiments</th>\n",
       "      <th>processed_revs</th>\n",
       "    </tr>\n",
       "  </thead>\n",
       "  <tbody>\n",
       "    <tr>\n",
       "      <th>0</th>\n",
       "      <td>this film was just brilliant casting location ...</td>\n",
       "      <td>1</td>\n",
       "      <td>film brilliant casting location scenery story ...</td>\n",
       "    </tr>\n",
       "    <tr>\n",
       "      <th>1</th>\n",
       "      <td>big hair big boobs bad music and a giant safet...</td>\n",
       "      <td>0</td>\n",
       "      <td>big hair big boobs bad music giant safety pin ...</td>\n",
       "    </tr>\n",
       "    <tr>\n",
       "      <th>2</th>\n",
       "      <td>this has to be one of the worst films of the 1...</td>\n",
       "      <td>0</td>\n",
       "      <td>one worst films friends watching film target a...</td>\n",
       "    </tr>\n",
       "    <tr>\n",
       "      <th>3</th>\n",
       "      <td>the   at storytelling the traditional sort man...</td>\n",
       "      <td>1</td>\n",
       "      <td>storytelling traditional sort many years event...</td>\n",
       "    </tr>\n",
       "    <tr>\n",
       "      <th>4</th>\n",
       "      <td>worst mistake of my life   i picked this movie...</td>\n",
       "      <td>0</td>\n",
       "      <td>worst mistake life picked movie target figured...</td>\n",
       "    </tr>\n",
       "  </tbody>\n",
       "</table>\n",
       "</div>\n",
       "    <div class=\"colab-df-buttons\">\n",
       "\n",
       "  <div class=\"colab-df-container\">\n",
       "    <button class=\"colab-df-convert\" onclick=\"convertToInteractive('df-6ee0806b-1ea1-4763-9805-b0e6ade0ff8b')\"\n",
       "            title=\"Convert this dataframe to an interactive table.\"\n",
       "            style=\"display:none;\">\n",
       "\n",
       "  <svg xmlns=\"http://www.w3.org/2000/svg\" height=\"24px\" viewBox=\"0 -960 960 960\">\n",
       "    <path d=\"M120-120v-720h720v720H120Zm60-500h600v-160H180v160Zm220 220h160v-160H400v160Zm0 220h160v-160H400v160ZM180-400h160v-160H180v160Zm440 0h160v-160H620v160ZM180-180h160v-160H180v160Zm440 0h160v-160H620v160Z\"/>\n",
       "  </svg>\n",
       "    </button>\n",
       "\n",
       "  <style>\n",
       "    .colab-df-container {\n",
       "      display:flex;\n",
       "      gap: 12px;\n",
       "    }\n",
       "\n",
       "    .colab-df-convert {\n",
       "      background-color: #E8F0FE;\n",
       "      border: none;\n",
       "      border-radius: 50%;\n",
       "      cursor: pointer;\n",
       "      display: none;\n",
       "      fill: #1967D2;\n",
       "      height: 32px;\n",
       "      padding: 0 0 0 0;\n",
       "      width: 32px;\n",
       "    }\n",
       "\n",
       "    .colab-df-convert:hover {\n",
       "      background-color: #E2EBFA;\n",
       "      box-shadow: 0px 1px 2px rgba(60, 64, 67, 0.3), 0px 1px 3px 1px rgba(60, 64, 67, 0.15);\n",
       "      fill: #174EA6;\n",
       "    }\n",
       "\n",
       "    .colab-df-buttons div {\n",
       "      margin-bottom: 4px;\n",
       "    }\n",
       "\n",
       "    [theme=dark] .colab-df-convert {\n",
       "      background-color: #3B4455;\n",
       "      fill: #D2E3FC;\n",
       "    }\n",
       "\n",
       "    [theme=dark] .colab-df-convert:hover {\n",
       "      background-color: #434B5C;\n",
       "      box-shadow: 0px 1px 3px 1px rgba(0, 0, 0, 0.15);\n",
       "      filter: drop-shadow(0px 1px 2px rgba(0, 0, 0, 0.3));\n",
       "      fill: #FFFFFF;\n",
       "    }\n",
       "  </style>\n",
       "\n",
       "    <script>\n",
       "      const buttonEl =\n",
       "        document.querySelector('#df-6ee0806b-1ea1-4763-9805-b0e6ade0ff8b button.colab-df-convert');\n",
       "      buttonEl.style.display =\n",
       "        google.colab.kernel.accessAllowed ? 'block' : 'none';\n",
       "\n",
       "      async function convertToInteractive(key) {\n",
       "        const element = document.querySelector('#df-6ee0806b-1ea1-4763-9805-b0e6ade0ff8b');\n",
       "        const dataTable =\n",
       "          await google.colab.kernel.invokeFunction('convertToInteractive',\n",
       "                                                    [key], {});\n",
       "        if (!dataTable) return;\n",
       "\n",
       "        const docLinkHtml = 'Like what you see? Visit the ' +\n",
       "          '<a target=\"_blank\" href=https://colab.research.google.com/notebooks/data_table.ipynb>data table notebook</a>'\n",
       "          + ' to learn more about interactive tables.';\n",
       "        element.innerHTML = '';\n",
       "        dataTable['output_type'] = 'display_data';\n",
       "        await google.colab.output.renderOutput(dataTable, element);\n",
       "        const docLink = document.createElement('div');\n",
       "        docLink.innerHTML = docLinkHtml;\n",
       "        element.appendChild(docLink);\n",
       "      }\n",
       "    </script>\n",
       "  </div>\n",
       "\n",
       "\n",
       "<div id=\"df-08d28ca8-e75b-46c8-a245-84c5a73b0328\">\n",
       "  <button class=\"colab-df-quickchart\" onclick=\"quickchart('df-08d28ca8-e75b-46c8-a245-84c5a73b0328')\"\n",
       "            title=\"Suggest charts\"\n",
       "            style=\"display:none;\">\n",
       "\n",
       "<svg xmlns=\"http://www.w3.org/2000/svg\" height=\"24px\"viewBox=\"0 0 24 24\"\n",
       "     width=\"24px\">\n",
       "    <g>\n",
       "        <path d=\"M19 3H5c-1.1 0-2 .9-2 2v14c0 1.1.9 2 2 2h14c1.1 0 2-.9 2-2V5c0-1.1-.9-2-2-2zM9 17H7v-7h2v7zm4 0h-2V7h2v10zm4 0h-2v-4h2v4z\"/>\n",
       "    </g>\n",
       "</svg>\n",
       "  </button>\n",
       "\n",
       "<style>\n",
       "  .colab-df-quickchart {\n",
       "      --bg-color: #E8F0FE;\n",
       "      --fill-color: #1967D2;\n",
       "      --hover-bg-color: #E2EBFA;\n",
       "      --hover-fill-color: #174EA6;\n",
       "      --disabled-fill-color: #AAA;\n",
       "      --disabled-bg-color: #DDD;\n",
       "  }\n",
       "\n",
       "  [theme=dark] .colab-df-quickchart {\n",
       "      --bg-color: #3B4455;\n",
       "      --fill-color: #D2E3FC;\n",
       "      --hover-bg-color: #434B5C;\n",
       "      --hover-fill-color: #FFFFFF;\n",
       "      --disabled-bg-color: #3B4455;\n",
       "      --disabled-fill-color: #666;\n",
       "  }\n",
       "\n",
       "  .colab-df-quickchart {\n",
       "    background-color: var(--bg-color);\n",
       "    border: none;\n",
       "    border-radius: 50%;\n",
       "    cursor: pointer;\n",
       "    display: none;\n",
       "    fill: var(--fill-color);\n",
       "    height: 32px;\n",
       "    padding: 0;\n",
       "    width: 32px;\n",
       "  }\n",
       "\n",
       "  .colab-df-quickchart:hover {\n",
       "    background-color: var(--hover-bg-color);\n",
       "    box-shadow: 0 1px 2px rgba(60, 64, 67, 0.3), 0 1px 3px 1px rgba(60, 64, 67, 0.15);\n",
       "    fill: var(--button-hover-fill-color);\n",
       "  }\n",
       "\n",
       "  .colab-df-quickchart-complete:disabled,\n",
       "  .colab-df-quickchart-complete:disabled:hover {\n",
       "    background-color: var(--disabled-bg-color);\n",
       "    fill: var(--disabled-fill-color);\n",
       "    box-shadow: none;\n",
       "  }\n",
       "\n",
       "  .colab-df-spinner {\n",
       "    border: 2px solid var(--fill-color);\n",
       "    border-color: transparent;\n",
       "    border-bottom-color: var(--fill-color);\n",
       "    animation:\n",
       "      spin 1s steps(1) infinite;\n",
       "  }\n",
       "\n",
       "  @keyframes spin {\n",
       "    0% {\n",
       "      border-color: transparent;\n",
       "      border-bottom-color: var(--fill-color);\n",
       "      border-left-color: var(--fill-color);\n",
       "    }\n",
       "    20% {\n",
       "      border-color: transparent;\n",
       "      border-left-color: var(--fill-color);\n",
       "      border-top-color: var(--fill-color);\n",
       "    }\n",
       "    30% {\n",
       "      border-color: transparent;\n",
       "      border-left-color: var(--fill-color);\n",
       "      border-top-color: var(--fill-color);\n",
       "      border-right-color: var(--fill-color);\n",
       "    }\n",
       "    40% {\n",
       "      border-color: transparent;\n",
       "      border-right-color: var(--fill-color);\n",
       "      border-top-color: var(--fill-color);\n",
       "    }\n",
       "    60% {\n",
       "      border-color: transparent;\n",
       "      border-right-color: var(--fill-color);\n",
       "    }\n",
       "    80% {\n",
       "      border-color: transparent;\n",
       "      border-right-color: var(--fill-color);\n",
       "      border-bottom-color: var(--fill-color);\n",
       "    }\n",
       "    90% {\n",
       "      border-color: transparent;\n",
       "      border-bottom-color: var(--fill-color);\n",
       "    }\n",
       "  }\n",
       "</style>\n",
       "\n",
       "  <script>\n",
       "    async function quickchart(key) {\n",
       "      const quickchartButtonEl =\n",
       "        document.querySelector('#' + key + ' button');\n",
       "      quickchartButtonEl.disabled = true;  // To prevent multiple clicks.\n",
       "      quickchartButtonEl.classList.add('colab-df-spinner');\n",
       "      try {\n",
       "        const charts = await google.colab.kernel.invokeFunction(\n",
       "            'suggestCharts', [key], {});\n",
       "      } catch (error) {\n",
       "        console.error('Error during call to suggestCharts:', error);\n",
       "      }\n",
       "      quickchartButtonEl.classList.remove('colab-df-spinner');\n",
       "      quickchartButtonEl.classList.add('colab-df-quickchart-complete');\n",
       "    }\n",
       "    (() => {\n",
       "      let quickchartButtonEl =\n",
       "        document.querySelector('#df-08d28ca8-e75b-46c8-a245-84c5a73b0328 button');\n",
       "      quickchartButtonEl.style.display =\n",
       "        google.colab.kernel.accessAllowed ? 'block' : 'none';\n",
       "    })();\n",
       "  </script>\n",
       "</div>\n",
       "\n",
       "    </div>\n",
       "  </div>\n"
      ],
      "text/plain": [
       "                                             Reviews  Sentiments  \\\n",
       "0  this film was just brilliant casting location ...           1   \n",
       "1  big hair big boobs bad music and a giant safet...           0   \n",
       "2  this has to be one of the worst films of the 1...           0   \n",
       "3  the   at storytelling the traditional sort man...           1   \n",
       "4  worst mistake of my life   i picked this movie...           0   \n",
       "\n",
       "                                      processed_revs  \n",
       "0  film brilliant casting location scenery story ...  \n",
       "1  big hair big boobs bad music giant safety pin ...  \n",
       "2  one worst films friends watching film target a...  \n",
       "3  storytelling traditional sort many years event...  \n",
       "4  worst mistake life picked movie target figured...  "
      ]
     },
     "execution_count": 11,
     "metadata": {},
     "output_type": "execute_result"
    }
   ],
   "source": [
    "df.head()"
   ]
  },
  {
   "cell_type": "code",
   "execution_count": 12,
   "metadata": {
    "colab": {
     "base_uri": "https://localhost:8080/"
    },
    "id": "EQQbqqc9s24B",
    "outputId": "03c7c8c0-095b-4b5a-f1e6-a585bc029b29"
   },
   "outputs": [
    {
     "data": {
      "text/plain": [
       "1137"
      ]
     },
     "execution_count": 12,
     "metadata": {},
     "output_type": "execute_result"
    }
   ],
   "source": [
    "sentences = df[\"processed_revs\"].tolist()\n",
    "max_len = max(len(x.split()) for x in sentences)\n",
    "max_len"
   ]
  },
  {
   "cell_type": "code",
   "execution_count": 13,
   "metadata": {
    "colab": {
     "base_uri": "https://localhost:8080/",
     "height": 162
    },
    "id": "GDh05uJRs4VI",
    "outputId": "1efb8d05-cef6-4e52-b5f9-92027b5a0f93"
   },
   "outputs": [
    {
     "data": {
      "application/vnd.google.colaboratory.intrinsic+json": {
       "type": "string"
      },
      "text/plain": [
       "'film brilliant casting location scenery story direction everyones really suited part played could imagine robert amazing actor director father came scottish island loved fact real connection film witty remarks throughout film great brilliant much bought film soon released would recommend everyone watch fly fishing amazing really cried end sad know say cry film must good definitely also two little boys played norman paul brilliant children often left list think stars play grown big profile whole film children amazing praised done dont think whole story lovely true someones life shared us'"
      ]
     },
     "execution_count": 13,
     "metadata": {},
     "output_type": "execute_result"
    }
   ],
   "source": [
    "sentences[0]"
   ]
  },
  {
   "cell_type": "code",
   "execution_count": 14,
   "metadata": {
    "id": "70BaFgWXs5-y"
   },
   "outputs": [],
   "source": [
    "from tensorflow.keras.preprocessing.text import Tokenizer\n",
    "from tensorflow.keras.preprocessing.sequence import pad_sequences"
   ]
  },
  {
   "cell_type": "code",
   "execution_count": 15,
   "metadata": {
    "id": "hTm5cl-vs7TB"
   },
   "outputs": [],
   "source": [
    "tokenizer = Tokenizer(num_words=10000, oov_token=\"<OOV>\")\n",
    "tokenizer.fit_on_texts(sentences)"
   ]
  },
  {
   "cell_type": "code",
   "execution_count": 16,
   "metadata": {
    "id": "iRKnFf-Ys8cJ"
   },
   "outputs": [],
   "source": [
    "sequences = tokenizer.texts_to_sequences(sentences)"
   ]
  },
  {
   "cell_type": "code",
   "execution_count": 17,
   "metadata": {
    "colab": {
     "base_uri": "https://localhost:8080/"
    },
    "id": "yaxG0is2s9uR",
    "outputId": "3615b384-da83-4281-9fe0-0654a28322d7"
   },
   "outputs": [
    {
     "data": {
      "text/plain": [
       "True"
      ]
     },
     "execution_count": 17,
     "metadata": {},
     "output_type": "execute_result"
    }
   ],
   "source": [
    "len(sequences[0]) == len(sentences[0].split())"
   ]
  },
  {
   "cell_type": "code",
   "execution_count": 18,
   "metadata": {
    "id": "h81s4TxOs_W5"
   },
   "outputs": [],
   "source": [
    "## padding sequences\n",
    "padded_sequence = pad_sequences(sequences, maxlen=max_len, padding='post')"
   ]
  },
  {
   "cell_type": "code",
   "execution_count": 19,
   "metadata": {
    "colab": {
     "base_uri": "https://localhost:8080/"
    },
    "id": "CfYn4Cy6tA6a",
    "outputId": "0f43c3ac-2fa6-4071-cb83-d2039b9a0ddc"
   },
   "outputs": [
    {
     "data": {
      "text/plain": [
       "array([  3, 401, 836, ...,   0,   0,   0], dtype=int32)"
      ]
     },
     "execution_count": 19,
     "metadata": {},
     "output_type": "execute_result"
    }
   ],
   "source": [
    "## padded sequence for first line\n",
    "padded_sequence[0]"
   ]
  },
  {
   "cell_type": "code",
   "execution_count": 20,
   "metadata": {
    "colab": {
     "base_uri": "https://localhost:8080/"
    },
    "id": "8QnkrjR6tCR5",
    "outputId": "b5d71591-a66e-479c-82d6-9c954a219ad1"
   },
   "outputs": [
    {
     "data": {
      "text/plain": [
       "20000"
      ]
     },
     "execution_count": 20,
     "metadata": {},
     "output_type": "execute_result"
    }
   ],
   "source": [
    "len(padded_sequence)"
   ]
  },
  {
   "cell_type": "code",
   "execution_count": 21,
   "metadata": {
    "id": "cbrMrG-qtDxq"
   },
   "outputs": [],
   "source": [
    "from tensorflow.keras.layers import Embedding, Input\n",
    "from tensorflow.keras.models import Model"
   ]
  },
  {
   "cell_type": "code",
   "execution_count": 22,
   "metadata": {
    "colab": {
     "base_uri": "https://localhost:8080/"
    },
    "id": "qC17WhpwtFAp",
    "outputId": "69c9febb-3c72-4af4-e87a-9e6a9b8d1339"
   },
   "outputs": [
    {
     "name": "stderr",
     "output_type": "stream",
     "text": [
      "/usr/local/lib/python3.11/dist-packages/keras/src/layers/core/embedding.py:90: UserWarning: Argument `input_length` is deprecated. Just remove it.\n",
      "  warnings.warn(\n"
     ]
    }
   ],
   "source": [
    "## Applying Embeddings\n",
    "embedding_dim = 50\n",
    "max_word = 9900 ## vocabulary of the review\n",
    "input_layer = Input(shape=(max_len,))\n",
    "embedding_layer = Embedding(input_dim=max_word, output_dim=embedding_dim, input_length=max_len)(input_layer)\n",
    "embedding_model = Model(inputs=input_layer, outputs=embedding_layer)"
   ]
  },
  {
   "cell_type": "code",
   "execution_count": 23,
   "metadata": {
    "colab": {
     "base_uri": "https://localhost:8080/"
    },
    "id": "ObVlTQmstGQa",
    "outputId": "9588d61b-05d2-476c-acc9-dddf984313d4"
   },
   "outputs": [
    {
     "name": "stdout",
     "output_type": "stream",
     "text": [
      "\u001b[1m20/20\u001b[0m \u001b[32m━━━━━━━━━━━━━━━━━━━━\u001b[0m\u001b[37m\u001b[0m \u001b[1m2s\u001b[0m 72ms/step\n",
      "\u001b[1m20/20\u001b[0m \u001b[32m━━━━━━━━━━━━━━━━━━━━\u001b[0m\u001b[37m\u001b[0m \u001b[1m1s\u001b[0m 61ms/step\n",
      "\u001b[1m20/20\u001b[0m \u001b[32m━━━━━━━━━━━━━━━━━━━━\u001b[0m\u001b[37m\u001b[0m \u001b[1m1s\u001b[0m 44ms/step\n",
      "\u001b[1m20/20\u001b[0m \u001b[32m━━━━━━━━━━━━━━━━━━━━\u001b[0m\u001b[37m\u001b[0m \u001b[1m1s\u001b[0m 49ms/step\n"
     ]
    }
   ],
   "source": [
    "## as the dataset is very huge, process them in batch\n",
    "import gc\n",
    "import h5py\n",
    "batch_size = 5000\n",
    "with h5py.File(\"embeddings.h5\", \"w\") as h5f:\n",
    "    dset = h5f.create_dataset(\"embeddings\", (len(df), max_len, embedding_dim), dtype=\"float32\")\n",
    "\n",
    "    for i in range(0, len(df), batch_size):\n",
    "        batch_sequences = padded_sequence[i : i + batch_size]\n",
    "        batch_embeddings = embedding_model.predict(batch_sequences, batch_size=256)  # Process in chunks\n",
    "        dset[i : i + batch_size] = batch_embeddings  # Store in file\n",
    "\n",
    "        # Free memory\n",
    "        del batch_sequences, batch_embeddings\n",
    "        gc.collect()"
   ]
  },
  {
   "cell_type": "code",
   "execution_count": 24,
   "metadata": {
    "colab": {
     "base_uri": "https://localhost:8080/"
    },
    "id": "oRsxu3oPtHzh",
    "outputId": "accb7a7d-330c-4f81-97d3-a9143b6d038c"
   },
   "outputs": [
    {
     "name": "stdout",
     "output_type": "stream",
     "text": [
      "(1137, 50)\n"
     ]
    }
   ],
   "source": [
    "with h5py.File(\"embeddings.h5\", \"r\") as h5f:\n",
    "    sample_embedding = h5f[\"embeddings\"][0]  ## Get first row's embedding\n",
    "    print(sample_embedding.shape)"
   ]
  },
  {
   "cell_type": "code",
   "execution_count": 25,
   "metadata": {
    "colab": {
     "base_uri": "https://localhost:8080/"
    },
    "id": "12uH8IEOtJYA",
    "outputId": "12094285-131c-4709-80ab-ab1635e96cf2"
   },
   "outputs": [
    {
     "name": "stdout",
     "output_type": "stream",
     "text": [
      "Shape of dataset: (20000, 1137, 50)\n",
      "Loaded batch 0 to 2500\n",
      "Loaded batch 2500 to 5000\n",
      "Loaded batch 5000 to 7500\n",
      "Loaded batch 7500 to 10000\n",
      "Loaded batch 10000 to 12500\n",
      "Loaded batch 12500 to 15000\n",
      "Loaded batch 15000 to 17500\n",
      "Loaded batch 17500 to 20000\n",
      "Final shape of embeddings: (20000, 1137, 50)\n"
     ]
    }
   ],
   "source": [
    "## Open the HDF5 file without loading everything into RAM\n",
    "h5f = h5py.File(\"embeddings.h5\", \"r\")\n",
    "## Get dataset shape (num_rows, max_len, embedding_dim)\n",
    "print(\"Shape of dataset:\", h5f[\"embeddings\"].shape)\n",
    "## Load embeddings in batches\n",
    "safe_limit = 20000  ## Load only first 40,000 rows\n",
    "batch_size = 2500   ## Adjust batch size based on memory\n",
    "\n",
    "## Store embeddings in chunks\n",
    "all_embeddings = []\n",
    "\n",
    "for i in range(0, safe_limit, batch_size):  ## Stopping at 40K\n",
    "    batch_embeddings = h5f[\"embeddings\"][i : i + batch_size]\n",
    "    all_embeddings.append(batch_embeddings)  ## Storing the batches\n",
    "    print(f\"Loaded batch {i} to {i + batch_size}\")\n",
    "\n",
    "## Close HDF5 file\n",
    "h5f.close()\n",
    "\n",
    "embeddings = np.concatenate(all_embeddings, axis=0)\n",
    "print(\"Final shape of embeddings:\", embeddings.shape)"
   ]
  },
  {
   "cell_type": "code",
   "execution_count": 26,
   "metadata": {
    "id": "YWXpY_z7tLeF"
   },
   "outputs": [],
   "source": [
    "np.save(\"embeddings.npy\", embeddings)"
   ]
  },
  {
   "cell_type": "code",
   "execution_count": 27,
   "metadata": {
    "colab": {
     "base_uri": "https://localhost:8080/"
    },
    "id": "DHbgV4WhvHeh",
    "outputId": "f3856132-70be-4e08-b150-2e0540d6aa81"
   },
   "outputs": [
    {
     "data": {
      "text/plain": [
       "(20000, 1137, 50)"
      ]
     },
     "execution_count": 27,
     "metadata": {},
     "output_type": "execute_result"
    }
   ],
   "source": [
    "embeddings.shape"
   ]
  },
  {
   "cell_type": "code",
   "execution_count": 33,
   "metadata": {
    "colab": {
     "base_uri": "https://localhost:8080/",
     "height": 17
    },
    "id": "xLirowghAma9",
    "outputId": "62b18955-2bf2-457e-f57a-b9960ae3d26c"
   },
   "outputs": [
    {
     "data": {
      "application/javascript": [
       "\n",
       "    async function download(id, filename, size) {\n",
       "      if (!google.colab.kernel.accessAllowed) {\n",
       "        return;\n",
       "      }\n",
       "      const div = document.createElement('div');\n",
       "      const label = document.createElement('label');\n",
       "      label.textContent = `Downloading \"${filename}\": `;\n",
       "      div.appendChild(label);\n",
       "      const progress = document.createElement('progress');\n",
       "      progress.max = size;\n",
       "      div.appendChild(progress);\n",
       "      document.body.appendChild(div);\n",
       "\n",
       "      const buffers = [];\n",
       "      let downloaded = 0;\n",
       "\n",
       "      const channel = await google.colab.kernel.comms.open(id);\n",
       "      // Send a message to notify the kernel that we're ready.\n",
       "      channel.send({})\n",
       "\n",
       "      for await (const message of channel.messages) {\n",
       "        // Send a message to notify the kernel that we're ready.\n",
       "        channel.send({})\n",
       "        if (message.buffers) {\n",
       "          for (const buffer of message.buffers) {\n",
       "            buffers.push(buffer);\n",
       "            downloaded += buffer.byteLength;\n",
       "            progress.value = downloaded;\n",
       "          }\n",
       "        }\n",
       "      }\n",
       "      const blob = new Blob(buffers, {type: 'application/binary'});\n",
       "      const a = document.createElement('a');\n",
       "      a.href = window.URL.createObjectURL(blob);\n",
       "      a.download = filename;\n",
       "      div.appendChild(a);\n",
       "      a.click();\n",
       "      div.remove();\n",
       "    }\n",
       "  "
      ],
      "text/plain": [
       "<IPython.core.display.Javascript object>"
      ]
     },
     "metadata": {},
     "output_type": "display_data"
    },
    {
     "data": {
      "application/javascript": [
       "download(\"download_6e1474bc-7b2b-45b9-8021-3902e1c2ac63\", \"embeddings.zip\", 355044725)"
      ],
      "text/plain": [
       "<IPython.core.display.Javascript object>"
      ]
     },
     "metadata": {},
     "output_type": "display_data"
    }
   ],
   "source": [
    "import shutil\n",
    "from google.colab import files\n",
    "shutil.make_archive(\"/content/embeddings\", 'zip', \"/content\", \"embeddings.npy\")\n",
    "files.download(\"/content/embeddings.zip\")"
   ]
  }
 ],
 "metadata": {
  "accelerator": "GPU",
  "colab": {
   "gpuType": "T4",
   "provenance": []
  },
  "kernelspec": {
   "display_name": "Python 3 (ipykernel)",
   "language": "python",
   "name": "python3"
  },
  "language_info": {
   "codemirror_mode": {
    "name": "ipython",
    "version": 3
   },
   "file_extension": ".py",
   "mimetype": "text/x-python",
   "name": "python",
   "nbconvert_exporter": "python",
   "pygments_lexer": "ipython3",
   "version": "3.11.5"
  }
 },
 "nbformat": 4,
 "nbformat_minor": 4
}
