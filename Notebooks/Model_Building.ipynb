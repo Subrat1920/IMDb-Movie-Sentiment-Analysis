{
 "cells": [
  {
   "cell_type": "code",
   "execution_count": 1,
   "id": "15bbc4b1-1a87-4dae-b7ce-d66fb0b939d7",
   "metadata": {},
   "outputs": [
    {
     "name": "stderr",
     "output_type": "stream",
     "text": [
      "[nltk_data] Downloading package punkt to\n",
      "[nltk_data]     C:\\Users\\HP\\AppData\\Roaming\\nltk_data...\n",
      "[nltk_data]   Package punkt is already up-to-date!\n"
     ]
    },
    {
     "data": {
      "text/plain": [
       "True"
      ]
     },
     "execution_count": 1,
     "metadata": {},
     "output_type": "execute_result"
    }
   ],
   "source": [
    "import numpy as np\n",
    "import pandas as pd\n",
    "from gensim.models import Word2Vec\n",
    "from nltk.tokenize import word_tokenize\n",
    "import nltk\n",
    "pd.set_option('display.max_colwidth', None)\n",
    "pd.set_option('display.max_columns', None)\n",
    "import warnings\n",
    "warnings.filterwarnings(\"ignore\")\n",
    "nltk.download('punkt')"
   ]
  },
  {
   "cell_type": "code",
   "execution_count": 2,
   "id": "adaf7ecb-019e-4f12-9951-7e405f161754",
   "metadata": {},
   "outputs": [
    {
     "data": {
      "text/html": [
       "<div>\n",
       "<style scoped>\n",
       "    .dataframe tbody tr th:only-of-type {\n",
       "        vertical-align: middle;\n",
       "    }\n",
       "\n",
       "    .dataframe tbody tr th {\n",
       "        vertical-align: top;\n",
       "    }\n",
       "\n",
       "    .dataframe thead th {\n",
       "        text-align: right;\n",
       "    }\n",
       "</style>\n",
       "<table border=\"1\" class=\"dataframe\">\n",
       "  <thead>\n",
       "    <tr style=\"text-align: right;\">\n",
       "      <th></th>\n",
       "      <th>Reviews</th>\n",
       "      <th>Sentiments</th>\n",
       "    </tr>\n",
       "  </thead>\n",
       "  <tbody>\n",
       "    <tr>\n",
       "      <th>0</th>\n",
       "      <td>this film was just brilliant casting location scenery story direction everyones really suited the part they played and you could just imagine being there robert  is an amazing actor and now the same being director  father came from the same scottish island as myself so i loved the fact there was a real connection with this film the witty remarks throughout the film were great it was just brilliant so much that i bought the film as soon as it was released for  and would recommend it to everyone to watch and the fly fishing was amazing really cried at the end it was so sad and you know what they say if you cry at a film it must have been good and this definitely was also  to the two little boys that played the  of norman and paul they were just brilliant children are often left out of the  list i think because the stars that play them all grown up are such a big profile for the whole film but these children are amazing and should be praised for what they have done dont you think the whole story was so lovely because it was true and was someones life after all that was shared with us all</td>\n",
       "      <td>1</td>\n",
       "    </tr>\n",
       "    <tr>\n",
       "      <th>1</th>\n",
       "      <td>big hair big boobs bad music and a giant safety pin these are the words to best describe this terrible movie i love cheesy horror movies and ive seen hundreds but this had got to be on of the worst ever made the plot is paper thin and ridiculous the acting is an abomination the script is completely laughable the best is the end showdown with the cop and how he worked out who the killer is its just so damn terribly written the clothes are sickening and funny in equal  the hair is big lots of boobs  men wear those cut  shirts that show off their  sickening that men actually wore them and the music is just  trash that plays over and over again in almost every scene there is trashy music boobs and  taking away bodies and the gym still doesnt close for  all joking aside this is a truly bad film whose only charm is to look back on the disaster that was the 80s and have a good old laugh at how bad everything was back then</td>\n",
       "      <td>0</td>\n",
       "    </tr>\n",
       "    <tr>\n",
       "      <th>2</th>\n",
       "      <td>this has to be one of the worst films of the 1990s when my friends i were watching this film being the target audience it was aimed at we just sat watched the first half an hour with our jaws touching the floor at how bad it really was the rest of the time everyone else in the theatre just started talking to each other leaving or generally crying into their popcorn that they actually paid money they had  working to watch this feeble excuse for a film it must have looked like a great idea on paper but on film it looks like no one in the film has a clue what is going on crap acting crap costumes i cant get across how  this is to watch save yourself an hour a bit of your life</td>\n",
       "      <td>0</td>\n",
       "    </tr>\n",
       "    <tr>\n",
       "      <th>3</th>\n",
       "      <td>the   at storytelling the traditional sort many years after the event i can still see in my  eye an elderly lady my friends mother retelling the battle of  she makes the characters come alive her passion is that of an eye witness one to the events on the  heath a mile or so from where she lives   of course it happened many years before she was born but you wouldnt guess from the way she tells it the same story is told in bars the length and  of scotland as i discussed it with a friend one night in  a local cut in to give his version the discussion continued to closing time   stories passed down like this become part of our being who doesnt remember the stories our parents told us when we were children they become our invisible world and as we grow older they maybe still serve as inspiration or as an emotional  fact and fiction blend with  role models warning stories  magic and mystery   my name is  like my grandfather and his grandfather before him our protagonist introduces himself to us and also introduces the story that stretches back through generations it produces stories within stories stories that evoke the  wonder of scotland its rugged mountains  in  the stuff of legend yet  is  in reality this is what gives it its special charm it has a rough beauty and authenticity  with some of the finest  singing you will ever hear     visits his grandfather in hospital shortly before his death he burns with frustration part of him  to be in the twenty first century to hang out in  but he is raised on the western  among a  speaking community   yet there is a deeper conflict within him he  to know the truth the truth behind his  ancient stories where does fiction end and he wants to know the truth behind the death of his parents   he is pulled to make a last  journey to the  of one of  most  mountains can the truth be told or is it all in stories   in this story about stories we  bloody battles  lovers the  of old and the sometimes more   of accepted truth in doing so we each connect with  as he lives the story of his own life    the   is probably the most honest  and genuinely beautiful film of scotland ever made like  i got slightly annoyed with the  of hanging stories on more stories but also like  i  this once i saw the  picture  forget the box office  of braveheart and its like you might even  the  famous  of the wicker man to see a film that is true to scotland this one is probably unique if you maybe  on it deeply enough you might even re  the power of storytelling and the age old question of whether there are some truths that cannot be told but only experienced</td>\n",
       "      <td>1</td>\n",
       "    </tr>\n",
       "    <tr>\n",
       "      <th>4</th>\n",
       "      <td>worst mistake of my life   i picked this movie up at target for 5 because i figured hey its sandler i can get some cheap laughs i was wrong completely wrong mid way through the film all three of my friends were asleep and i was still suffering worst plot worst script worst movie i have ever seen i wanted to hit my head up against a wall for an hour then id stop and you know why because it felt damn good upon bashing my head in i stuck that damn movie in the  and watched it burn and that felt better than anything else ive ever done it took american psycho army of darkness and kill bill just to get over that crap i hate you sandler for actually going through with this and ruining a whole day of my life</td>\n",
       "      <td>0</td>\n",
       "    </tr>\n",
       "  </tbody>\n",
       "</table>\n",
       "</div>"
      ],
      "text/plain": [
       "                                                                                                                                                                                                                                                                                                                                                                                                                                                                                                                                                                                                                                                                                                                                                                                                                                                                                                                                                                                                                                                                                                                                                                                                                                                                                                                                                                                                                                                                                                                                                                                                                                                                                                                                                                                                                                                                                                                                                                                                                                                                                                                                                                                                                                                                                                                                                                                                                                                                                                                                                                                                                                                                                                              Reviews  \\\n",
       "0                                                                                                                                                                                                                                                                                                                                                                                                                                                                                                                                                                                                                                                                                                                                                                                                                                                                                                                                                                                                                                                                                                                                                                                                                                                                                                                                                                                                                                                                                                                                                                       this film was just brilliant casting location scenery story direction everyones really suited the part they played and you could just imagine being there robert  is an amazing actor and now the same being director  father came from the same scottish island as myself so i loved the fact there was a real connection with this film the witty remarks throughout the film were great it was just brilliant so much that i bought the film as soon as it was released for  and would recommend it to everyone to watch and the fly fishing was amazing really cried at the end it was so sad and you know what they say if you cry at a film it must have been good and this definitely was also  to the two little boys that played the  of norman and paul they were just brilliant children are often left out of the  list i think because the stars that play them all grown up are such a big profile for the whole film but these children are amazing and should be praised for what they have done dont you think the whole story was so lovely because it was true and was someones life after all that was shared with us all   \n",
       "1                                                                                                                                                                                                                                                                                                                                                                                                                                                                                                                                                                                                                                                                                                                                                                                                                                                                                                                                                                                                                                                                                                                                                                                                                                                                                                                                                                                                                                                                                                                                                                                                                                                                                                                                                    big hair big boobs bad music and a giant safety pin these are the words to best describe this terrible movie i love cheesy horror movies and ive seen hundreds but this had got to be on of the worst ever made the plot is paper thin and ridiculous the acting is an abomination the script is completely laughable the best is the end showdown with the cop and how he worked out who the killer is its just so damn terribly written the clothes are sickening and funny in equal  the hair is big lots of boobs  men wear those cut  shirts that show off their  sickening that men actually wore them and the music is just  trash that plays over and over again in almost every scene there is trashy music boobs and  taking away bodies and the gym still doesnt close for  all joking aside this is a truly bad film whose only charm is to look back on the disaster that was the 80s and have a good old laugh at how bad everything was back then   \n",
       "2                                                                                                                                                                                                                                                                                                                                                                                                                                                                                                                                                                                                                                                                                                                                                                                                                                                                                                                                                                                                                                                                                                                                                                                                                                                                                                                                                                                                                                                                                                                                                                                                                                                                                                                                                                                                                                                                                                                                                                                                           this has to be one of the worst films of the 1990s when my friends i were watching this film being the target audience it was aimed at we just sat watched the first half an hour with our jaws touching the floor at how bad it really was the rest of the time everyone else in the theatre just started talking to each other leaving or generally crying into their popcorn that they actually paid money they had  working to watch this feeble excuse for a film it must have looked like a great idea on paper but on film it looks like no one in the film has a clue what is going on crap acting crap costumes i cant get across how  this is to watch save yourself an hour a bit of your life   \n",
       "3  the   at storytelling the traditional sort many years after the event i can still see in my  eye an elderly lady my friends mother retelling the battle of  she makes the characters come alive her passion is that of an eye witness one to the events on the  heath a mile or so from where she lives   of course it happened many years before she was born but you wouldnt guess from the way she tells it the same story is told in bars the length and  of scotland as i discussed it with a friend one night in  a local cut in to give his version the discussion continued to closing time   stories passed down like this become part of our being who doesnt remember the stories our parents told us when we were children they become our invisible world and as we grow older they maybe still serve as inspiration or as an emotional  fact and fiction blend with  role models warning stories  magic and mystery   my name is  like my grandfather and his grandfather before him our protagonist introduces himself to us and also introduces the story that stretches back through generations it produces stories within stories stories that evoke the  wonder of scotland its rugged mountains  in  the stuff of legend yet  is  in reality this is what gives it its special charm it has a rough beauty and authenticity  with some of the finest  singing you will ever hear     visits his grandfather in hospital shortly before his death he burns with frustration part of him  to be in the twenty first century to hang out in  but he is raised on the western  among a  speaking community   yet there is a deeper conflict within him he  to know the truth the truth behind his  ancient stories where does fiction end and he wants to know the truth behind the death of his parents   he is pulled to make a last  journey to the  of one of  most  mountains can the truth be told or is it all in stories   in this story about stories we  bloody battles  lovers the  of old and the sometimes more   of accepted truth in doing so we each connect with  as he lives the story of his own life    the   is probably the most honest  and genuinely beautiful film of scotland ever made like  i got slightly annoyed with the  of hanging stories on more stories but also like  i  this once i saw the  picture  forget the box office  of braveheart and its like you might even  the  famous  of the wicker man to see a film that is true to scotland this one is probably unique if you maybe  on it deeply enough you might even re  the power of storytelling and the age old question of whether there are some truths that cannot be told but only experienced   \n",
       "4                                                                                                                                                                                                                                                                                                                                                                                                                                                                                                                                                                                                                                                                                                                                                                                                                                                                                                                                                                                                                                                                                                                                                                                                                                                                                                                                                                                                                                                                                                                                                                                                                                                                                                                                                                                                                                                                                                                                                                               worst mistake of my life   i picked this movie up at target for 5 because i figured hey its sandler i can get some cheap laughs i was wrong completely wrong mid way through the film all three of my friends were asleep and i was still suffering worst plot worst script worst movie i have ever seen i wanted to hit my head up against a wall for an hour then id stop and you know why because it felt damn good upon bashing my head in i stuck that damn movie in the  and watched it burn and that felt better than anything else ive ever done it took american psycho army of darkness and kill bill just to get over that crap i hate you sandler for actually going through with this and ruining a whole day of my life   \n",
       "\n",
       "   Sentiments  \n",
       "0           1  \n",
       "1           0  \n",
       "2           0  \n",
       "3           1  \n",
       "4           0  "
      ]
     },
     "execution_count": 2,
     "metadata": {},
     "output_type": "execute_result"
    }
   ],
   "source": [
    "df = pd.read_csv(\"Datasets/cleaned_sentiment_data.csv\")\n",
    "df.drop(columns=\"Unnamed: 0\", inplace=True)\n",
    "df.head()"
   ]
  },
  {
   "cell_type": "code",
   "execution_count": 4,
   "id": "d9905b15-690e-4874-8717-a744b73df518",
   "metadata": {},
   "outputs": [],
   "source": [
    "## convert reviews to lower-case\n",
    "df[\"Reviews\"] = df[\"Reviews\"].fillna(\"\").str.lower()"
   ]
  },
  {
   "cell_type": "code",
   "execution_count": 5,
   "id": "1da67bd4-c34e-4030-aa00-75bf5d9e941f",
   "metadata": {},
   "outputs": [],
   "source": [
    "## extra column for tokenized sentences\n",
    "df[\"tokenized_reviews\"] = df[\"Reviews\"].apply(word_tokenize)"
   ]
  },
  {
   "cell_type": "code",
   "execution_count": 6,
   "id": "f829d90c-15af-4d8d-91d2-c58646fa59b3",
   "metadata": {},
   "outputs": [
    {
     "data": {
      "text/html": [
       "<div>\n",
       "<style scoped>\n",
       "    .dataframe tbody tr th:only-of-type {\n",
       "        vertical-align: middle;\n",
       "    }\n",
       "\n",
       "    .dataframe tbody tr th {\n",
       "        vertical-align: top;\n",
       "    }\n",
       "\n",
       "    .dataframe thead th {\n",
       "        text-align: right;\n",
       "    }\n",
       "</style>\n",
       "<table border=\"1\" class=\"dataframe\">\n",
       "  <thead>\n",
       "    <tr style=\"text-align: right;\">\n",
       "      <th></th>\n",
       "      <th>Reviews</th>\n",
       "      <th>Sentiments</th>\n",
       "      <th>tokenized_reviews</th>\n",
       "    </tr>\n",
       "  </thead>\n",
       "  <tbody>\n",
       "    <tr>\n",
       "      <th>0</th>\n",
       "      <td>this film was just brilliant casting location scenery story direction everyones really suited the part they played and you could just imagine being there robert  is an amazing actor and now the same being director  father came from the same scottish island as myself so i loved the fact there was a real connection with this film the witty remarks throughout the film were great it was just brilliant so much that i bought the film as soon as it was released for  and would recommend it to everyone to watch and the fly fishing was amazing really cried at the end it was so sad and you know what they say if you cry at a film it must have been good and this definitely was also  to the two little boys that played the  of norman and paul they were just brilliant children are often left out of the  list i think because the stars that play them all grown up are such a big profile for the whole film but these children are amazing and should be praised for what they have done dont you think the whole story was so lovely because it was true and was someones life after all that was shared with us all</td>\n",
       "      <td>1</td>\n",
       "      <td>[this, film, was, just, brilliant, casting, location, scenery, story, direction, everyones, really, suited, the, part, they, played, and, you, could, just, imagine, being, there, robert, is, an, amazing, actor, and, now, the, same, being, director, father, came, from, the, same, scottish, island, as, myself, so, i, loved, the, fact, there, was, a, real, connection, with, this, film, the, witty, remarks, throughout, the, film, were, great, it, was, just, brilliant, so, much, that, i, bought, the, film, as, soon, as, it, was, released, for, and, would, recommend, it, to, everyone, to, watch, and, the, fly, fishing, was, amazing, really, cried, at, ...]</td>\n",
       "    </tr>\n",
       "    <tr>\n",
       "      <th>1</th>\n",
       "      <td>big hair big boobs bad music and a giant safety pin these are the words to best describe this terrible movie i love cheesy horror movies and ive seen hundreds but this had got to be on of the worst ever made the plot is paper thin and ridiculous the acting is an abomination the script is completely laughable the best is the end showdown with the cop and how he worked out who the killer is its just so damn terribly written the clothes are sickening and funny in equal  the hair is big lots of boobs  men wear those cut  shirts that show off their  sickening that men actually wore them and the music is just  trash that plays over and over again in almost every scene there is trashy music boobs and  taking away bodies and the gym still doesnt close for  all joking aside this is a truly bad film whose only charm is to look back on the disaster that was the 80s and have a good old laugh at how bad everything was back then</td>\n",
       "      <td>0</td>\n",
       "      <td>[big, hair, big, boobs, bad, music, and, a, giant, safety, pin, these, are, the, words, to, best, describe, this, terrible, movie, i, love, cheesy, horror, movies, and, ive, seen, hundreds, but, this, had, got, to, be, on, of, the, worst, ever, made, the, plot, is, paper, thin, and, ridiculous, the, acting, is, an, abomination, the, script, is, completely, laughable, the, best, is, the, end, showdown, with, the, cop, and, how, he, worked, out, who, the, killer, is, its, just, so, damn, terribly, written, the, clothes, are, sickening, and, funny, in, equal, the, hair, is, big, lots, of, boobs, men, wear, ...]</td>\n",
       "    </tr>\n",
       "  </tbody>\n",
       "</table>\n",
       "</div>"
      ],
      "text/plain": [
       "                                                                                                                                                                                                                                                                                                                                                                                                                                                                                                                                                                                                                                                                                                                                                                                                                                                                                                                                                                                                                                                                                                                                         Reviews  \\\n",
       "0  this film was just brilliant casting location scenery story direction everyones really suited the part they played and you could just imagine being there robert  is an amazing actor and now the same being director  father came from the same scottish island as myself so i loved the fact there was a real connection with this film the witty remarks throughout the film were great it was just brilliant so much that i bought the film as soon as it was released for  and would recommend it to everyone to watch and the fly fishing was amazing really cried at the end it was so sad and you know what they say if you cry at a film it must have been good and this definitely was also  to the two little boys that played the  of norman and paul they were just brilliant children are often left out of the  list i think because the stars that play them all grown up are such a big profile for the whole film but these children are amazing and should be praised for what they have done dont you think the whole story was so lovely because it was true and was someones life after all that was shared with us all   \n",
       "1                                                                                                                                                                               big hair big boobs bad music and a giant safety pin these are the words to best describe this terrible movie i love cheesy horror movies and ive seen hundreds but this had got to be on of the worst ever made the plot is paper thin and ridiculous the acting is an abomination the script is completely laughable the best is the end showdown with the cop and how he worked out who the killer is its just so damn terribly written the clothes are sickening and funny in equal  the hair is big lots of boobs  men wear those cut  shirts that show off their  sickening that men actually wore them and the music is just  trash that plays over and over again in almost every scene there is trashy music boobs and  taking away bodies and the gym still doesnt close for  all joking aside this is a truly bad film whose only charm is to look back on the disaster that was the 80s and have a good old laugh at how bad everything was back then   \n",
       "\n",
       "   Sentiments  \\\n",
       "0           1   \n",
       "1           0   \n",
       "\n",
       "                                                                                                                                                                                                                                                                                                                                                                                                                                                                                                                                                                                                                                                                    tokenized_reviews  \n",
       "0  [this, film, was, just, brilliant, casting, location, scenery, story, direction, everyones, really, suited, the, part, they, played, and, you, could, just, imagine, being, there, robert, is, an, amazing, actor, and, now, the, same, being, director, father, came, from, the, same, scottish, island, as, myself, so, i, loved, the, fact, there, was, a, real, connection, with, this, film, the, witty, remarks, throughout, the, film, were, great, it, was, just, brilliant, so, much, that, i, bought, the, film, as, soon, as, it, was, released, for, and, would, recommend, it, to, everyone, to, watch, and, the, fly, fishing, was, amazing, really, cried, at, ...]  \n",
       "1                                             [big, hair, big, boobs, bad, music, and, a, giant, safety, pin, these, are, the, words, to, best, describe, this, terrible, movie, i, love, cheesy, horror, movies, and, ive, seen, hundreds, but, this, had, got, to, be, on, of, the, worst, ever, made, the, plot, is, paper, thin, and, ridiculous, the, acting, is, an, abomination, the, script, is, completely, laughable, the, best, is, the, end, showdown, with, the, cop, and, how, he, worked, out, who, the, killer, is, its, just, so, damn, terribly, written, the, clothes, are, sickening, and, funny, in, equal, the, hair, is, big, lots, of, boobs, men, wear, ...]  "
      ]
     },
     "execution_count": 6,
     "metadata": {},
     "output_type": "execute_result"
    }
   ],
   "source": [
    "df.head(2)"
   ]
  },
  {
   "cell_type": "code",
   "execution_count": 7,
   "id": "f505c6e2-bcfa-4a75-8251-f1137be99b25",
   "metadata": {},
   "outputs": [],
   "source": [
    "sentences = df[\"tokenized_reviews\"].tolist()"
   ]
  },
  {
   "cell_type": "code",
   "execution_count": 8,
   "id": "08a2f7d1-e764-419f-99bc-0828ecc575c4",
   "metadata": {},
   "outputs": [
    {
     "data": {
      "text/plain": [
       "2174"
      ]
     },
     "execution_count": 8,
     "metadata": {},
     "output_type": "execute_result"
    }
   ],
   "source": [
    "max_sentece_len = max([len(x) for x in sentences])\n",
    "max_sentece_len"
   ]
  },
  {
   "cell_type": "markdown",
   "id": "c201690a-95c5-44fd-899a-25216b236782",
   "metadata": {},
   "source": [
    "### Word2Vec Model Hyper-Parameter Tunning"
   ]
  },
  {
   "cell_type": "code",
   "execution_count": 34,
   "id": "adf2476b-8dd1-4467-afe3-5c617afc1468",
   "metadata": {},
   "outputs": [],
   "source": [
    "# import optuna\n",
    "# def objective(trial):\n",
    "#     vector_size = trial.suggest_categorical(\"vector_size\", [50, 100, 200, 300])\n",
    "#     window = trial.suggest_int(\"window\", 2, 30, step=1) \n",
    "#     min_count = trial.suggest_int(\"min_count\", 1, 5, step=1)\n",
    "#     sg = trial.suggest_categorical(\"sg\", [0, 1])\n",
    "#     negative = trial.suggest_int(\"negative\", 5, 20, step=1)\n",
    "\n",
    "#     ## Train the Word2Vec model\n",
    "#     model = Word2Vec(sentences, vector_size=vector_size, window=window, min_count=min_count, sg=sg, negative=negative)\n",
    "\n",
    "#     ## Evaluate using word similarity\n",
    "#     score = model.wv.similarity(\"good\", \"great\") if \"good\" in model.wv and \"great\" in model.wv else 0\n",
    "#     return score"
   ]
  },
  {
   "cell_type": "code",
   "execution_count": 33,
   "id": "6313643d-d2a3-48c4-9790-86ce92f919b4",
   "metadata": {},
   "outputs": [],
   "source": [
    "# ## Running optimization\n",
    "# study = optuna.create_study(direction=\"maximize\")\n",
    "# study.optimize(objective, n_trials=5)"
   ]
  },
  {
   "cell_type": "code",
   "execution_count": 9,
   "id": "ed447deb-0556-4523-bea4-d475b883af23",
   "metadata": {},
   "outputs": [],
   "source": [
    "## best optimized params\n",
    "best_params = {'vector_size': 50, 'window': 28, 'min_count': 1, 'sg': 0, 'negative': 13}"
   ]
  },
  {
   "cell_type": "code",
   "execution_count": 10,
   "id": "2f26c51b-6d7a-4fdd-9cee-a85f045e3923",
   "metadata": {},
   "outputs": [
    {
     "ename": "KeyboardInterrupt",
     "evalue": "",
     "output_type": "error",
     "traceback": [
      "\u001b[1;31m---------------------------------------------------------------------------\u001b[0m",
      "\u001b[1;31mKeyboardInterrupt\u001b[0m                         Traceback (most recent call last)",
      "Cell \u001b[1;32mIn[10], line 1\u001b[0m\n\u001b[1;32m----> 1\u001b[0m model \u001b[38;5;241m=\u001b[39m \u001b[43mWord2Vec\u001b[49m\u001b[43m(\u001b[49m\u001b[43msentences\u001b[49m\u001b[38;5;241;43m=\u001b[39;49m\u001b[43msentences\u001b[49m\u001b[43m,\u001b[49m\u001b[43m \u001b[49m\u001b[38;5;241;43m*\u001b[39;49m\u001b[38;5;241;43m*\u001b[39;49m\u001b[43mbest_params\u001b[49m\u001b[43m)\u001b[49m\n",
      "File \u001b[1;32m~\\AppData\\Local\\Programs\\Python\\Python311\\Lib\\site-packages\\gensim\\models\\word2vec.py:430\u001b[0m, in \u001b[0;36mWord2Vec.__init__\u001b[1;34m(self, sentences, corpus_file, vector_size, alpha, window, min_count, max_vocab_size, sample, seed, workers, min_alpha, sg, hs, negative, ns_exponent, cbow_mean, hashfxn, epochs, null_word, trim_rule, sorted_vocab, batch_words, compute_loss, callbacks, comment, max_final_vocab, shrink_windows)\u001b[0m\n\u001b[0;32m    428\u001b[0m     \u001b[38;5;28mself\u001b[39m\u001b[38;5;241m.\u001b[39m_check_corpus_sanity(corpus_iterable\u001b[38;5;241m=\u001b[39mcorpus_iterable, corpus_file\u001b[38;5;241m=\u001b[39mcorpus_file, passes\u001b[38;5;241m=\u001b[39m(epochs \u001b[38;5;241m+\u001b[39m \u001b[38;5;241m1\u001b[39m))\n\u001b[0;32m    429\u001b[0m     \u001b[38;5;28mself\u001b[39m\u001b[38;5;241m.\u001b[39mbuild_vocab(corpus_iterable\u001b[38;5;241m=\u001b[39mcorpus_iterable, corpus_file\u001b[38;5;241m=\u001b[39mcorpus_file, trim_rule\u001b[38;5;241m=\u001b[39mtrim_rule)\n\u001b[1;32m--> 430\u001b[0m     \u001b[38;5;28;43mself\u001b[39;49m\u001b[38;5;241;43m.\u001b[39;49m\u001b[43mtrain\u001b[49m\u001b[43m(\u001b[49m\n\u001b[0;32m    431\u001b[0m \u001b[43m        \u001b[49m\u001b[43mcorpus_iterable\u001b[49m\u001b[38;5;241;43m=\u001b[39;49m\u001b[43mcorpus_iterable\u001b[49m\u001b[43m,\u001b[49m\u001b[43m \u001b[49m\u001b[43mcorpus_file\u001b[49m\u001b[38;5;241;43m=\u001b[39;49m\u001b[43mcorpus_file\u001b[49m\u001b[43m,\u001b[49m\u001b[43m \u001b[49m\u001b[43mtotal_examples\u001b[49m\u001b[38;5;241;43m=\u001b[39;49m\u001b[38;5;28;43mself\u001b[39;49m\u001b[38;5;241;43m.\u001b[39;49m\u001b[43mcorpus_count\u001b[49m\u001b[43m,\u001b[49m\n\u001b[0;32m    432\u001b[0m \u001b[43m        \u001b[49m\u001b[43mtotal_words\u001b[49m\u001b[38;5;241;43m=\u001b[39;49m\u001b[38;5;28;43mself\u001b[39;49m\u001b[38;5;241;43m.\u001b[39;49m\u001b[43mcorpus_total_words\u001b[49m\u001b[43m,\u001b[49m\u001b[43m \u001b[49m\u001b[43mepochs\u001b[49m\u001b[38;5;241;43m=\u001b[39;49m\u001b[38;5;28;43mself\u001b[39;49m\u001b[38;5;241;43m.\u001b[39;49m\u001b[43mepochs\u001b[49m\u001b[43m,\u001b[49m\u001b[43m \u001b[49m\u001b[43mstart_alpha\u001b[49m\u001b[38;5;241;43m=\u001b[39;49m\u001b[38;5;28;43mself\u001b[39;49m\u001b[38;5;241;43m.\u001b[39;49m\u001b[43malpha\u001b[49m\u001b[43m,\u001b[49m\n\u001b[0;32m    433\u001b[0m \u001b[43m        \u001b[49m\u001b[43mend_alpha\u001b[49m\u001b[38;5;241;43m=\u001b[39;49m\u001b[38;5;28;43mself\u001b[39;49m\u001b[38;5;241;43m.\u001b[39;49m\u001b[43mmin_alpha\u001b[49m\u001b[43m,\u001b[49m\u001b[43m \u001b[49m\u001b[43mcompute_loss\u001b[49m\u001b[38;5;241;43m=\u001b[39;49m\u001b[38;5;28;43mself\u001b[39;49m\u001b[38;5;241;43m.\u001b[39;49m\u001b[43mcompute_loss\u001b[49m\u001b[43m,\u001b[49m\u001b[43m \u001b[49m\u001b[43mcallbacks\u001b[49m\u001b[38;5;241;43m=\u001b[39;49m\u001b[43mcallbacks\u001b[49m\u001b[43m)\u001b[49m\n\u001b[0;32m    434\u001b[0m \u001b[38;5;28;01melse\u001b[39;00m:\n\u001b[0;32m    435\u001b[0m     \u001b[38;5;28;01mif\u001b[39;00m trim_rule \u001b[38;5;129;01mis\u001b[39;00m \u001b[38;5;129;01mnot\u001b[39;00m \u001b[38;5;28;01mNone\u001b[39;00m:\n",
      "File \u001b[1;32m~\\AppData\\Local\\Programs\\Python\\Python311\\Lib\\site-packages\\gensim\\models\\word2vec.py:1073\u001b[0m, in \u001b[0;36mWord2Vec.train\u001b[1;34m(self, corpus_iterable, corpus_file, total_examples, total_words, epochs, start_alpha, end_alpha, word_count, queue_factor, report_delay, compute_loss, callbacks, **kwargs)\u001b[0m\n\u001b[0;32m   1070\u001b[0m     callback\u001b[38;5;241m.\u001b[39mon_epoch_begin(\u001b[38;5;28mself\u001b[39m)\n\u001b[0;32m   1072\u001b[0m \u001b[38;5;28;01mif\u001b[39;00m corpus_iterable \u001b[38;5;129;01mis\u001b[39;00m \u001b[38;5;129;01mnot\u001b[39;00m \u001b[38;5;28;01mNone\u001b[39;00m:\n\u001b[1;32m-> 1073\u001b[0m     trained_word_count_epoch, raw_word_count_epoch, job_tally_epoch \u001b[38;5;241m=\u001b[39m \u001b[38;5;28;43mself\u001b[39;49m\u001b[38;5;241;43m.\u001b[39;49m\u001b[43m_train_epoch\u001b[49m\u001b[43m(\u001b[49m\n\u001b[0;32m   1074\u001b[0m \u001b[43m        \u001b[49m\u001b[43mcorpus_iterable\u001b[49m\u001b[43m,\u001b[49m\u001b[43m \u001b[49m\u001b[43mcur_epoch\u001b[49m\u001b[38;5;241;43m=\u001b[39;49m\u001b[43mcur_epoch\u001b[49m\u001b[43m,\u001b[49m\u001b[43m \u001b[49m\u001b[43mtotal_examples\u001b[49m\u001b[38;5;241;43m=\u001b[39;49m\u001b[43mtotal_examples\u001b[49m\u001b[43m,\u001b[49m\n\u001b[0;32m   1075\u001b[0m \u001b[43m        \u001b[49m\u001b[43mtotal_words\u001b[49m\u001b[38;5;241;43m=\u001b[39;49m\u001b[43mtotal_words\u001b[49m\u001b[43m,\u001b[49m\u001b[43m \u001b[49m\u001b[43mqueue_factor\u001b[49m\u001b[38;5;241;43m=\u001b[39;49m\u001b[43mqueue_factor\u001b[49m\u001b[43m,\u001b[49m\u001b[43m \u001b[49m\u001b[43mreport_delay\u001b[49m\u001b[38;5;241;43m=\u001b[39;49m\u001b[43mreport_delay\u001b[49m\u001b[43m,\u001b[49m\n\u001b[0;32m   1076\u001b[0m \u001b[43m        \u001b[49m\u001b[43mcallbacks\u001b[49m\u001b[38;5;241;43m=\u001b[39;49m\u001b[43mcallbacks\u001b[49m\u001b[43m,\u001b[49m\u001b[43m \u001b[49m\u001b[38;5;241;43m*\u001b[39;49m\u001b[38;5;241;43m*\u001b[39;49m\u001b[43mkwargs\u001b[49m\u001b[43m)\u001b[49m\n\u001b[0;32m   1077\u001b[0m \u001b[38;5;28;01melse\u001b[39;00m:\n\u001b[0;32m   1078\u001b[0m     trained_word_count_epoch, raw_word_count_epoch, job_tally_epoch \u001b[38;5;241m=\u001b[39m \u001b[38;5;28mself\u001b[39m\u001b[38;5;241m.\u001b[39m_train_epoch_corpusfile(\n\u001b[0;32m   1079\u001b[0m         corpus_file, cur_epoch\u001b[38;5;241m=\u001b[39mcur_epoch, total_examples\u001b[38;5;241m=\u001b[39mtotal_examples, total_words\u001b[38;5;241m=\u001b[39mtotal_words,\n\u001b[0;32m   1080\u001b[0m         callbacks\u001b[38;5;241m=\u001b[39mcallbacks, \u001b[38;5;241m*\u001b[39m\u001b[38;5;241m*\u001b[39mkwargs)\n",
      "File \u001b[1;32m~\\AppData\\Local\\Programs\\Python\\Python311\\Lib\\site-packages\\gensim\\models\\word2vec.py:1434\u001b[0m, in \u001b[0;36mWord2Vec._train_epoch\u001b[1;34m(self, data_iterable, cur_epoch, total_examples, total_words, queue_factor, report_delay, callbacks)\u001b[0m\n\u001b[0;32m   1431\u001b[0m     thread\u001b[38;5;241m.\u001b[39mdaemon \u001b[38;5;241m=\u001b[39m \u001b[38;5;28;01mTrue\u001b[39;00m  \u001b[38;5;66;03m# make interrupting the process with ctrl+c easier\u001b[39;00m\n\u001b[0;32m   1432\u001b[0m     thread\u001b[38;5;241m.\u001b[39mstart()\n\u001b[1;32m-> 1434\u001b[0m trained_word_count, raw_word_count, job_tally \u001b[38;5;241m=\u001b[39m \u001b[38;5;28;43mself\u001b[39;49m\u001b[38;5;241;43m.\u001b[39;49m\u001b[43m_log_epoch_progress\u001b[49m\u001b[43m(\u001b[49m\n\u001b[0;32m   1435\u001b[0m \u001b[43m    \u001b[49m\u001b[43mprogress_queue\u001b[49m\u001b[43m,\u001b[49m\u001b[43m \u001b[49m\u001b[43mjob_queue\u001b[49m\u001b[43m,\u001b[49m\u001b[43m \u001b[49m\u001b[43mcur_epoch\u001b[49m\u001b[38;5;241;43m=\u001b[39;49m\u001b[43mcur_epoch\u001b[49m\u001b[43m,\u001b[49m\u001b[43m \u001b[49m\u001b[43mtotal_examples\u001b[49m\u001b[38;5;241;43m=\u001b[39;49m\u001b[43mtotal_examples\u001b[49m\u001b[43m,\u001b[49m\n\u001b[0;32m   1436\u001b[0m \u001b[43m    \u001b[49m\u001b[43mtotal_words\u001b[49m\u001b[38;5;241;43m=\u001b[39;49m\u001b[43mtotal_words\u001b[49m\u001b[43m,\u001b[49m\u001b[43m \u001b[49m\u001b[43mreport_delay\u001b[49m\u001b[38;5;241;43m=\u001b[39;49m\u001b[43mreport_delay\u001b[49m\u001b[43m,\u001b[49m\u001b[43m \u001b[49m\u001b[43mis_corpus_file_mode\u001b[49m\u001b[38;5;241;43m=\u001b[39;49m\u001b[38;5;28;43;01mFalse\u001b[39;49;00m\u001b[43m,\u001b[49m\n\u001b[0;32m   1437\u001b[0m \u001b[43m\u001b[49m\u001b[43m)\u001b[49m\n\u001b[0;32m   1439\u001b[0m \u001b[38;5;28;01mreturn\u001b[39;00m trained_word_count, raw_word_count, job_tally\n",
      "File \u001b[1;32m~\\AppData\\Local\\Programs\\Python\\Python311\\Lib\\site-packages\\gensim\\models\\word2vec.py:1289\u001b[0m, in \u001b[0;36mWord2Vec._log_epoch_progress\u001b[1;34m(self, progress_queue, job_queue, cur_epoch, total_examples, total_words, report_delay, is_corpus_file_mode)\u001b[0m\n\u001b[0;32m   1286\u001b[0m unfinished_worker_count \u001b[38;5;241m=\u001b[39m \u001b[38;5;28mself\u001b[39m\u001b[38;5;241m.\u001b[39mworkers\n\u001b[0;32m   1288\u001b[0m \u001b[38;5;28;01mwhile\u001b[39;00m unfinished_worker_count \u001b[38;5;241m>\u001b[39m \u001b[38;5;241m0\u001b[39m:\n\u001b[1;32m-> 1289\u001b[0m     report \u001b[38;5;241m=\u001b[39m \u001b[43mprogress_queue\u001b[49m\u001b[38;5;241;43m.\u001b[39;49m\u001b[43mget\u001b[49m\u001b[43m(\u001b[49m\u001b[43m)\u001b[49m  \u001b[38;5;66;03m# blocks if workers too slow\u001b[39;00m\n\u001b[0;32m   1290\u001b[0m     \u001b[38;5;28;01mif\u001b[39;00m report \u001b[38;5;129;01mis\u001b[39;00m \u001b[38;5;28;01mNone\u001b[39;00m:  \u001b[38;5;66;03m# a thread reporting that it finished\u001b[39;00m\n\u001b[0;32m   1291\u001b[0m         unfinished_worker_count \u001b[38;5;241m-\u001b[39m\u001b[38;5;241m=\u001b[39m \u001b[38;5;241m1\u001b[39m\n",
      "File \u001b[1;32m~\\AppData\\Local\\Programs\\Python\\Python311\\Lib\\queue.py:171\u001b[0m, in \u001b[0;36mQueue.get\u001b[1;34m(self, block, timeout)\u001b[0m\n\u001b[0;32m    169\u001b[0m \u001b[38;5;28;01melif\u001b[39;00m timeout \u001b[38;5;129;01mis\u001b[39;00m \u001b[38;5;28;01mNone\u001b[39;00m:\n\u001b[0;32m    170\u001b[0m     \u001b[38;5;28;01mwhile\u001b[39;00m \u001b[38;5;129;01mnot\u001b[39;00m \u001b[38;5;28mself\u001b[39m\u001b[38;5;241m.\u001b[39m_qsize():\n\u001b[1;32m--> 171\u001b[0m         \u001b[38;5;28;43mself\u001b[39;49m\u001b[38;5;241;43m.\u001b[39;49m\u001b[43mnot_empty\u001b[49m\u001b[38;5;241;43m.\u001b[39;49m\u001b[43mwait\u001b[49m\u001b[43m(\u001b[49m\u001b[43m)\u001b[49m\n\u001b[0;32m    172\u001b[0m \u001b[38;5;28;01melif\u001b[39;00m timeout \u001b[38;5;241m<\u001b[39m \u001b[38;5;241m0\u001b[39m:\n\u001b[0;32m    173\u001b[0m     \u001b[38;5;28;01mraise\u001b[39;00m \u001b[38;5;167;01mValueError\u001b[39;00m(\u001b[38;5;124m\"\u001b[39m\u001b[38;5;124m'\u001b[39m\u001b[38;5;124mtimeout\u001b[39m\u001b[38;5;124m'\u001b[39m\u001b[38;5;124m must be a non-negative number\u001b[39m\u001b[38;5;124m\"\u001b[39m)\n",
      "File \u001b[1;32m~\\AppData\\Local\\Programs\\Python\\Python311\\Lib\\threading.py:320\u001b[0m, in \u001b[0;36mCondition.wait\u001b[1;34m(self, timeout)\u001b[0m\n\u001b[0;32m    318\u001b[0m \u001b[38;5;28;01mtry\u001b[39;00m:    \u001b[38;5;66;03m# restore state no matter what (e.g., KeyboardInterrupt)\u001b[39;00m\n\u001b[0;32m    319\u001b[0m     \u001b[38;5;28;01mif\u001b[39;00m timeout \u001b[38;5;129;01mis\u001b[39;00m \u001b[38;5;28;01mNone\u001b[39;00m:\n\u001b[1;32m--> 320\u001b[0m         \u001b[43mwaiter\u001b[49m\u001b[38;5;241;43m.\u001b[39;49m\u001b[43macquire\u001b[49m\u001b[43m(\u001b[49m\u001b[43m)\u001b[49m\n\u001b[0;32m    321\u001b[0m         gotit \u001b[38;5;241m=\u001b[39m \u001b[38;5;28;01mTrue\u001b[39;00m\n\u001b[0;32m    322\u001b[0m     \u001b[38;5;28;01melse\u001b[39;00m:\n",
      "\u001b[1;31mKeyboardInterrupt\u001b[0m: "
     ]
    }
   ],
   "source": [
    "model = Word2Vec(sentences=sentences, **best_params)"
   ]
  },
  {
   "cell_type": "code",
   "execution_count": 42,
   "id": "19d779d7-5793-4f85-9189-c209834bdbab",
   "metadata": {},
   "outputs": [
    {
     "data": {
      "text/plain": [
       "array([-0.2464683 , -1.8338974 ,  2.7769818 ,  0.51107824,  0.11803626,\n",
       "        3.7000835 ,  0.5000537 , -3.597555  ,  1.013419  ,  6.7975945 ,\n",
       "       -5.273961  ,  0.50010526, -0.85960627, -3.2498262 , -1.197649  ,\n",
       "       -1.9426239 , -6.0417395 , -0.2872186 , -1.4209982 , -3.799376  ,\n",
       "       -3.3025167 , -8.684817  , -6.8598228 ,  0.5257175 , -3.4769058 ,\n",
       "        0.4367441 ,  2.5264502 ,  3.68043   ,  1.6425258 ,  1.6438694 ,\n",
       "       -8.801887  ,  2.125201  ,  4.9150434 ,  2.9113398 ,  0.0296047 ,\n",
       "        4.418034  , -3.1083832 , -0.512661  ,  2.8364885 ,  0.5878286 ,\n",
       "       -0.9989573 ,  0.61478186, -0.06433102, -6.002823  , -8.618661  ,\n",
       "        4.368349  ,  4.909263  ,  7.2823415 , -2.353114  , -1.8070921 ],\n",
       "      dtype=float32)"
      ]
     },
     "execution_count": 42,
     "metadata": {},
     "output_type": "execute_result"
    }
   ],
   "source": [
    "## let'get word vector \n",
    "word_vector = model.wv[\"movie\"]\n",
    "word_vector"
   ]
  },
  {
   "cell_type": "code",
   "execution_count": 43,
   "id": "8fcbcdae-b571-49f7-93e7-651cb56398fb",
   "metadata": {},
   "outputs": [
    {
     "data": {
      "text/plain": [
       "[('it', 0.7642834782600403),\n",
       " ('film', 0.6722635626792908),\n",
       " ('thing', 0.6715840697288513),\n",
       " ('flick', 0.5827152132987976),\n",
       " ('really', 0.580695629119873)]"
      ]
     },
     "execution_count": 43,
     "metadata": {},
     "output_type": "execute_result"
    }
   ],
   "source": [
    "similar_word_movie = model.wv.most_similar(\"movie\", topn=5)\n",
    "similar_word_movie"
   ]
  },
  {
   "cell_type": "code",
   "execution_count": 44,
   "id": "33f966b2-c4ee-42d3-a3dc-b2c77863bb1a",
   "metadata": {},
   "outputs": [],
   "source": [
    "## convert reviews into word_embeddings\n",
    "def get_sentence_embeddings(sentence, model):\n",
    "    words = [word for word in sentence if word in model.wv]\n",
    "    if not words:\n",
    "        return np.zeros(model.vector_size)\n",
    "    return np.mean(model.wv[words], axis=0)"
   ]
  },
  {
   "cell_type": "code",
   "execution_count": 45,
   "id": "2906f94d-d991-4645-b562-805842418903",
   "metadata": {},
   "outputs": [],
   "source": [
    "## applying to the reviews\n",
    "df['sentence_embeddings'] = df['tokenized_reviews'].apply(lambda x: get_sentence_embeddings(x, model))"
   ]
  },
  {
   "cell_type": "code",
   "execution_count": 46,
   "id": "6228941c-0796-4a08-95e1-2c1597be2e7e",
   "metadata": {},
   "outputs": [
    {
     "data": {
      "text/html": [
       "<div>\n",
       "<style scoped>\n",
       "    .dataframe tbody tr th:only-of-type {\n",
       "        vertical-align: middle;\n",
       "    }\n",
       "\n",
       "    .dataframe tbody tr th {\n",
       "        vertical-align: top;\n",
       "    }\n",
       "\n",
       "    .dataframe thead th {\n",
       "        text-align: right;\n",
       "    }\n",
       "</style>\n",
       "<table border=\"1\" class=\"dataframe\">\n",
       "  <thead>\n",
       "    <tr style=\"text-align: right;\">\n",
       "      <th></th>\n",
       "      <th>Reviews</th>\n",
       "      <th>Sentiments</th>\n",
       "      <th>tokenized_reviews</th>\n",
       "      <th>sentence_embeddings</th>\n",
       "    </tr>\n",
       "  </thead>\n",
       "  <tbody>\n",
       "    <tr>\n",
       "      <th>0</th>\n",
       "      <td>this film was just brilliant casting location scenery story direction everyones really suited the part they played and you could just imagine being there robert  is an amazing actor and now the same being director  father came from the same scottish island as myself so i loved the fact there was a real connection with this film the witty remarks throughout the film were great it was just brilliant so much that i bought the film as soon as it was released for  and would recommend it to everyone to watch and the fly fishing was amazing really cried at the end it was so sad and you know what they say if you cry at a film it must have been good and this definitely was also  to the two little boys that played the  of norman and paul they were just brilliant children are often left out of the  list i think because the stars that play them all grown up are such a big profile for the whole film but these children are amazing and should be praised for what they have done dont you think the whole story was so lovely because it was true and was someones life after all that was shared with us all</td>\n",
       "      <td>1</td>\n",
       "      <td>[this, film, was, just, brilliant, casting, location, scenery, story, direction, everyones, really, suited, the, part, they, played, and, you, could, just, imagine, being, there, robert, is, an, amazing, actor, and, now, the, same, being, director, father, came, from, the, same, scottish, island, as, myself, so, i, loved, the, fact, there, was, a, real, connection, with, this, film, the, witty, remarks, throughout, the, film, were, great, it, was, just, brilliant, so, much, that, i, bought, the, film, as, soon, as, it, was, released, for, and, would, recommend, it, to, everyone, to, watch, and, the, fly, fishing, was, amazing, really, cried, at, ...]</td>\n",
       "      <td>[-0.66630036, 0.6220741, -0.449388, 0.21699263, 0.6265045, 0.8262031, 0.11932525, -2.2803748, 1.4764675, 0.19214712, -1.6251314, 0.46250394, -1.335722, -0.45025483, -0.22302881, -1.3346548, -1.3361055, -0.54779863, 1.5484455, 0.43762845, -1.0690279, -1.085631, -0.8175256, -0.032868467, -1.1085056, -0.0501614, 0.40611514, 0.055106044, 0.5134824, 0.18457343, -1.413555, 0.20798941, 0.6901331, 0.46591657, -0.039372124, 0.53816587, -1.0280837, -0.35114497, 0.8653811, 0.29144338, -1.8854805, 0.937455, 0.57997155, -1.2453585, -0.29207006, 0.7764972, 0.54130846, 1.1755267, -0.3276571, -1.478053]</td>\n",
       "    </tr>\n",
       "    <tr>\n",
       "      <th>1</th>\n",
       "      <td>big hair big boobs bad music and a giant safety pin these are the words to best describe this terrible movie i love cheesy horror movies and ive seen hundreds but this had got to be on of the worst ever made the plot is paper thin and ridiculous the acting is an abomination the script is completely laughable the best is the end showdown with the cop and how he worked out who the killer is its just so damn terribly written the clothes are sickening and funny in equal  the hair is big lots of boobs  men wear those cut  shirts that show off their  sickening that men actually wore them and the music is just  trash that plays over and over again in almost every scene there is trashy music boobs and  taking away bodies and the gym still doesnt close for  all joking aside this is a truly bad film whose only charm is to look back on the disaster that was the 80s and have a good old laugh at how bad everything was back then</td>\n",
       "      <td>0</td>\n",
       "      <td>[big, hair, big, boobs, bad, music, and, a, giant, safety, pin, these, are, the, words, to, best, describe, this, terrible, movie, i, love, cheesy, horror, movies, and, ive, seen, hundreds, but, this, had, got, to, be, on, of, the, worst, ever, made, the, plot, is, paper, thin, and, ridiculous, the, acting, is, an, abomination, the, script, is, completely, laughable, the, best, is, the, end, showdown, with, the, cop, and, how, he, worked, out, who, the, killer, is, its, just, so, damn, terribly, written, the, clothes, are, sickening, and, funny, in, equal, the, hair, is, big, lots, of, boobs, men, wear, ...]</td>\n",
       "      <td>[-0.105528496, 0.69441694, -0.33562967, 0.10153921, 0.8751041, 0.409854, 0.69619346, -2.000384, 0.57846737, 0.5038395, -0.62064046, 0.021560851, -0.41131106, -0.35247245, -0.10513127, -0.5482331, -0.54402626, -0.89489406, 1.0418421, -0.24522607, -0.20583618, -0.32745877, -0.75351363, 0.019252798, 0.39338258, 1.3803785, -0.018689627, -0.11208868, 0.698666, -0.9491652, -1.1797254, 0.12314119, 0.8945789, 0.7909536, 0.7190114, 0.43763897, -0.9313088, -0.6248759, 0.4022428, 0.12453033, -1.3133858, 0.18577738, 0.975941, -0.25575957, -0.011748976, 0.15488683, 1.5215214, 0.7864297, 1.0580536, 0.065803]</td>\n",
       "    </tr>\n",
       "    <tr>\n",
       "      <th>2</th>\n",
       "      <td>this has to be one of the worst films of the 1990s when my friends i were watching this film being the target audience it was aimed at we just sat watched the first half an hour with our jaws touching the floor at how bad it really was the rest of the time everyone else in the theatre just started talking to each other leaving or generally crying into their popcorn that they actually paid money they had  working to watch this feeble excuse for a film it must have looked like a great idea on paper but on film it looks like no one in the film has a clue what is going on crap acting crap costumes i cant get across how  this is to watch save yourself an hour a bit of your life</td>\n",
       "      <td>0</td>\n",
       "      <td>[this, has, to, be, one, of, the, worst, films, of, the, 1990s, when, my, friends, i, were, watching, this, film, being, the, target, audience, it, was, aimed, at, we, just, sat, watched, the, first, half, an, hour, with, our, jaws, touching, the, floor, at, how, bad, it, really, was, the, rest, of, the, time, everyone, else, in, the, theatre, just, started, talking, to, each, other, leaving, or, generally, crying, into, their, popcorn, that, they, actually, paid, money, they, had, working, to, watch, this, feeble, excuse, for, a, film, it, must, have, looked, like, a, great, idea, on, paper, but, on, ...]</td>\n",
       "      <td>[-0.40696394, -0.100839905, -0.13414119, -0.28286543, 0.87515205, 1.2957994, 0.35392043, -1.6695298, 0.45066708, 0.20354114, -1.0932627, -0.05270878, -0.6534752, -0.33709395, 0.076292485, -0.5269757, -0.60540044, -1.4201587, 0.99307793, -0.095169134, -0.7532567, -1.276173, -0.237658, -0.18015878, -0.20056856, 0.4486898, 0.746435, 0.7872651, 0.23125345, -0.5309963, -1.1344335, 0.8013244, 0.789661, 0.80387723, 0.9899526, 0.53465706, -1.1715946, -0.6106609, 1.0097455, 0.16925573, -2.595846, 1.4572827, 0.30049244, -0.78251034, -1.1778209, 0.072221145, 1.4339079, 1.1559414, -0.53019917, -1.6494416]</td>\n",
       "    </tr>\n",
       "  </tbody>\n",
       "</table>\n",
       "</div>"
      ],
      "text/plain": [
       "                                                                                                                                                                                                                                                                                                                                                                                                                                                                                                                                                                                                                                                                                                                                                                                                                                                                                                                                                                                                                                                                                                                                         Reviews  \\\n",
       "0  this film was just brilliant casting location scenery story direction everyones really suited the part they played and you could just imagine being there robert  is an amazing actor and now the same being director  father came from the same scottish island as myself so i loved the fact there was a real connection with this film the witty remarks throughout the film were great it was just brilliant so much that i bought the film as soon as it was released for  and would recommend it to everyone to watch and the fly fishing was amazing really cried at the end it was so sad and you know what they say if you cry at a film it must have been good and this definitely was also  to the two little boys that played the  of norman and paul they were just brilliant children are often left out of the  list i think because the stars that play them all grown up are such a big profile for the whole film but these children are amazing and should be praised for what they have done dont you think the whole story was so lovely because it was true and was someones life after all that was shared with us all   \n",
       "1                                                                                                                                                                               big hair big boobs bad music and a giant safety pin these are the words to best describe this terrible movie i love cheesy horror movies and ive seen hundreds but this had got to be on of the worst ever made the plot is paper thin and ridiculous the acting is an abomination the script is completely laughable the best is the end showdown with the cop and how he worked out who the killer is its just so damn terribly written the clothes are sickening and funny in equal  the hair is big lots of boobs  men wear those cut  shirts that show off their  sickening that men actually wore them and the music is just  trash that plays over and over again in almost every scene there is trashy music boobs and  taking away bodies and the gym still doesnt close for  all joking aside this is a truly bad film whose only charm is to look back on the disaster that was the 80s and have a good old laugh at how bad everything was back then   \n",
       "2                                                                                                                                                                                                                                                                                                                                                                                                                                      this has to be one of the worst films of the 1990s when my friends i were watching this film being the target audience it was aimed at we just sat watched the first half an hour with our jaws touching the floor at how bad it really was the rest of the time everyone else in the theatre just started talking to each other leaving or generally crying into their popcorn that they actually paid money they had  working to watch this feeble excuse for a film it must have looked like a great idea on paper but on film it looks like no one in the film has a clue what is going on crap acting crap costumes i cant get across how  this is to watch save yourself an hour a bit of your life   \n",
       "\n",
       "   Sentiments  \\\n",
       "0           1   \n",
       "1           0   \n",
       "2           0   \n",
       "\n",
       "                                                                                                                                                                                                                                                                                                                                                                                                                                                                                                                                                                                                                                                                    tokenized_reviews  \\\n",
       "0  [this, film, was, just, brilliant, casting, location, scenery, story, direction, everyones, really, suited, the, part, they, played, and, you, could, just, imagine, being, there, robert, is, an, amazing, actor, and, now, the, same, being, director, father, came, from, the, same, scottish, island, as, myself, so, i, loved, the, fact, there, was, a, real, connection, with, this, film, the, witty, remarks, throughout, the, film, were, great, it, was, just, brilliant, so, much, that, i, bought, the, film, as, soon, as, it, was, released, for, and, would, recommend, it, to, everyone, to, watch, and, the, fly, fishing, was, amazing, really, cried, at, ...]   \n",
       "1                                             [big, hair, big, boobs, bad, music, and, a, giant, safety, pin, these, are, the, words, to, best, describe, this, terrible, movie, i, love, cheesy, horror, movies, and, ive, seen, hundreds, but, this, had, got, to, be, on, of, the, worst, ever, made, the, plot, is, paper, thin, and, ridiculous, the, acting, is, an, abomination, the, script, is, completely, laughable, the, best, is, the, end, showdown, with, the, cop, and, how, he, worked, out, who, the, killer, is, its, just, so, damn, terribly, written, the, clothes, are, sickening, and, funny, in, equal, the, hair, is, big, lots, of, boobs, men, wear, ...]   \n",
       "2                                               [this, has, to, be, one, of, the, worst, films, of, the, 1990s, when, my, friends, i, were, watching, this, film, being, the, target, audience, it, was, aimed, at, we, just, sat, watched, the, first, half, an, hour, with, our, jaws, touching, the, floor, at, how, bad, it, really, was, the, rest, of, the, time, everyone, else, in, the, theatre, just, started, talking, to, each, other, leaving, or, generally, crying, into, their, popcorn, that, they, actually, paid, money, they, had, working, to, watch, this, feeble, excuse, for, a, film, it, must, have, looked, like, a, great, idea, on, paper, but, on, ...]   \n",
       "\n",
       "                                                                                                                                                                                                                                                                                                                                                                                                                                                                                                                                                                                                         sentence_embeddings  \n",
       "0         [-0.66630036, 0.6220741, -0.449388, 0.21699263, 0.6265045, 0.8262031, 0.11932525, -2.2803748, 1.4764675, 0.19214712, -1.6251314, 0.46250394, -1.335722, -0.45025483, -0.22302881, -1.3346548, -1.3361055, -0.54779863, 1.5484455, 0.43762845, -1.0690279, -1.085631, -0.8175256, -0.032868467, -1.1085056, -0.0501614, 0.40611514, 0.055106044, 0.5134824, 0.18457343, -1.413555, 0.20798941, 0.6901331, 0.46591657, -0.039372124, 0.53816587, -1.0280837, -0.35114497, 0.8653811, 0.29144338, -1.8854805, 0.937455, 0.57997155, -1.2453585, -0.29207006, 0.7764972, 0.54130846, 1.1755267, -0.3276571, -1.478053]  \n",
       "1  [-0.105528496, 0.69441694, -0.33562967, 0.10153921, 0.8751041, 0.409854, 0.69619346, -2.000384, 0.57846737, 0.5038395, -0.62064046, 0.021560851, -0.41131106, -0.35247245, -0.10513127, -0.5482331, -0.54402626, -0.89489406, 1.0418421, -0.24522607, -0.20583618, -0.32745877, -0.75351363, 0.019252798, 0.39338258, 1.3803785, -0.018689627, -0.11208868, 0.698666, -0.9491652, -1.1797254, 0.12314119, 0.8945789, 0.7909536, 0.7190114, 0.43763897, -0.9313088, -0.6248759, 0.4022428, 0.12453033, -1.3133858, 0.18577738, 0.975941, -0.25575957, -0.011748976, 0.15488683, 1.5215214, 0.7864297, 1.0580536, 0.065803]  \n",
       "2   [-0.40696394, -0.100839905, -0.13414119, -0.28286543, 0.87515205, 1.2957994, 0.35392043, -1.6695298, 0.45066708, 0.20354114, -1.0932627, -0.05270878, -0.6534752, -0.33709395, 0.076292485, -0.5269757, -0.60540044, -1.4201587, 0.99307793, -0.095169134, -0.7532567, -1.276173, -0.237658, -0.18015878, -0.20056856, 0.4486898, 0.746435, 0.7872651, 0.23125345, -0.5309963, -1.1344335, 0.8013244, 0.789661, 0.80387723, 0.9899526, 0.53465706, -1.1715946, -0.6106609, 1.0097455, 0.16925573, -2.595846, 1.4572827, 0.30049244, -0.78251034, -1.1778209, 0.072221145, 1.4339079, 1.1559414, -0.53019917, -1.6494416]  "
      ]
     },
     "execution_count": 46,
     "metadata": {},
     "output_type": "execute_result"
    }
   ],
   "source": [
    "df.head(3)"
   ]
  },
  {
   "cell_type": "code",
   "execution_count": 48,
   "id": "1f98a500-0d4a-407a-920a-80a1c21e5fb8",
   "metadata": {},
   "outputs": [],
   "source": [
    "## separating dependent and independent variables\n",
    "## converting sentence embeddings into Numpy arrays\n",
    "x = np.vstack(df['sentence_embeddings'].values)\n",
    "y = df['Sentiments'].values"
   ]
  },
  {
   "cell_type": "code",
   "execution_count": 50,
   "id": "7f91c8b9-500a-4a7e-be2e-142abc9e631d",
   "metadata": {},
   "outputs": [],
   "source": [
    "from sklearn.model_selection import train_test_split\n",
    "x_train, x_test, y_train, y_test = train_test_split(x,y,test_size=0.3,random_state=42)"
   ]
  },
  {
   "cell_type": "code",
   "execution_count": 53,
   "id": "8151b800-6850-4048-80a7-5d7927d8b348",
   "metadata": {},
   "outputs": [],
   "source": [
    "import tensorflow as tf\n",
    "from tensorflow.keras.models import Sequential\n",
    "from tensorflow.keras.layers import Dense, Dropout\n",
    "from tensorflow.keras.callbacks import EarlyStopping"
   ]
  },
  {
   "cell_type": "code",
   "execution_count": 54,
   "id": "9c42c20c-1497-4d0f-8ba9-cf31e92f0a5e",
   "metadata": {},
   "outputs": [],
   "source": [
    "hidden_layers = [1,2,3,4]\n",
    "neurons_per_layer = [32, 64, 128, 256]\n",
    "activation_functions = ['relu', 'sigmoid']\n",
    "learning_rate = [0.001, 0.01, 0.1]"
   ]
  },
  {
   "cell_type": "code",
   "execution_count": null,
   "id": "b4a4adf5-cd19-4983-8d5f-0d39c70fa950",
   "metadata": {},
   "outputs": [
    {
     "name": "stdout",
     "output_type": "stream",
     "text": [
      "Training with\n",
      " 1 [Hidden Layers]\n",
      " 32 [Neurons Per Layer]\n",
      " relu [Activation Function]\n",
      " 0.001 [Learning Rate]\n",
      "Epoch 1/10\n",
      "5600/5600 - 23s - 4ms/step - accuracy: 0.8445 - loss: 0.3571 - val_accuracy: 0.8391 - val_loss: 0.3637\n",
      "Epoch 2/10\n",
      "5600/5600 - 22s - 4ms/step - accuracy: 0.8577 - loss: 0.3288 - val_accuracy: 0.8557 - val_loss: 0.3296\n",
      "Epoch 3/10\n"
     ]
    }
   ],
   "source": [
    "# Define your hyperparameter lists\n",
    "hidden_layers = [1, 2, 3]  \n",
    "neurons_per_layer = [32, 64, 128]  \n",
    "activation_functions = ['relu', 'tanh']  \n",
    "learning_rate = [0.001, 0.01, 0.1]  \n",
    "\n",
    "for hid_layers in hidden_layers:\n",
    "    for neurons in neurons_per_layer:\n",
    "        for act_func in activation_functions:\n",
    "            for lear_rate in learning_rate:\n",
    "                print(f'Training with\\n {hid_layers} [Hidden Layers]\\n {neurons} [Neurons Per Layer]\\n {act_func} [Activation Function]\\n {lear_rate} [Learning Rate]')\n",
    "                \n",
    "                # Define the model\n",
    "                model = Sequential()\n",
    "                model.add(Dense(neurons, activation=act_func, input_dim=x_train.shape[1]))  # Input layer\n",
    "\n",
    "                for _ in range(hid_layers):  # Add hidden layers\n",
    "                    model.add(Dense(neurons, activation=act_func))\n",
    "\n",
    "                model.add(Dense(3, activation='softmax'))  # Output layer (3 classes)\n",
    "\n",
    "                # Compile the model\n",
    "                opt = tf.keras.optimizers.Adam(learning_rate=lear_rate)\n",
    "                loss = tf.keras.losses.SparseCategoricalCrossentropy()\n",
    "                model.compile(optimizer=opt, loss=loss, metrics=['accuracy'])\n",
    "\n",
    "                # Train the model\n",
    "                history = model.fit(x_train, y_train, batch_size=5, epochs=10, validation_split=0.2, verbose=2)\n",
    "                val_accuracy = max(history.history['val_accuracy'])\n",
    "                print(f'Validation Accuracy=====> {val_accuracy:.4f}')\n",
    "\n",
    "                # Update best parameters if validation accuracy improves\n",
    "                if val_accuracy > best_accuracy:\n",
    "                    best_accuracy = val_accuracy\n",
    "                    best_params = {\n",
    "                        'hidden_layers': hid_layers,\n",
    "                        'neurons_per_layer': neurons,\n",
    "                        'activation_function': act_func,\n",
    "                        'learning_rate': lear_rate\n",
    "                    }\n",
    "\n",
    "print(\"\\nBest Hyperparameters:\")\n",
    "print(best_params)\n",
    "print(f'Best Validation Accuracy: {best_accuracy:.4f}')"
   ]
  },
  {
   "cell_type": "code",
   "execution_count": null,
   "id": "3ffa2e91-a9ae-4a01-a8e9-7e3272514131",
   "metadata": {},
   "outputs": [],
   "source": []
  }
 ],
 "metadata": {
  "kernelspec": {
   "display_name": "Python 3 (ipykernel)",
   "language": "python",
   "name": "python3"
  },
  "language_info": {
   "codemirror_mode": {
    "name": "ipython",
    "version": 3
   },
   "file_extension": ".py",
   "mimetype": "text/x-python",
   "name": "python",
   "nbconvert_exporter": "python",
   "pygments_lexer": "ipython3",
   "version": "3.11.5"
  }
 },
 "nbformat": 4,
 "nbformat_minor": 5
}
